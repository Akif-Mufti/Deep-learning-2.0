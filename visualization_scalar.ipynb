{
  "nbformat": 4,
  "nbformat_minor": 0,
  "metadata": {
    "colab": {
      "name": "visualization_scalar.ipynb",
      "provenance": [],
      "include_colab_link": true
    },
    "kernelspec": {
      "name": "python3",
      "display_name": "Python 3"
    }
  },
  "cells": [
    {
      "cell_type": "markdown",
      "metadata": {
        "id": "view-in-github",
        "colab_type": "text"
      },
      "source": [
        "<a href=\"https://colab.research.google.com/github/Akif-Mufti/Deep-learning-2.0/blob/master/visualization_scalar.ipynb\" target=\"_parent\"><img src=\"https://colab.research.google.com/assets/colab-badge.svg\" alt=\"Open In Colab\"/></a>"
      ]
    },
    {
      "cell_type": "code",
      "metadata": {
        "id": "IxJGjhfw8o6x",
        "colab_type": "code",
        "outputId": "8e8dad4b-0c2f-43f0-f640-963399cc0ff0",
        "colab": {
          "base_uri": "https://localhost:8080/",
          "height": 62
        }
      },
      "source": [
        "#randomlly pick 100 values in Normal distribution N(0,1)\n",
        "import tensorflow as tf\n",
        "\n",
        "\n"
      ],
      "execution_count": 0,
      "outputs": [
        {
          "output_type": "display_data",
          "data": {
            "text/html": [
              "<p style=\"color: red;\">\n",
              "The default version of TensorFlow in Colab will soon switch to TensorFlow 2.x.<br>\n",
              "We recommend you <a href=\"https://www.tensorflow.org/guide/migrate\" target=\"_blank\">upgrade</a> now \n",
              "or ensure your notebook will continue to use TensorFlow 1.x via the <code>%tensorflow_version 1.x</code> magic:\n",
              "<a href=\"https://colab.research.google.com/notebooks/tensorflow_version.ipynb\" target=\"_blank\">more info</a>.</p>\n"
            ],
            "text/plain": [
              "<IPython.core.display.HTML object>"
            ]
          },
          "metadata": {
            "tags": []
          }
        }
      ]
    },
    {
      "cell_type": "code",
      "metadata": {
        "id": "kUObTXVM9SiP",
        "colab_type": "code",
        "colab": {}
      },
      "source": [
        "tf.reset_default_graph()\n",
        "s_scalar =tf.get_variable(name='x_scalar',shape=[],initializer=tf.truncated_normal_initializer(mean=0,stddev=1))\n",
        "new_summary = tf.summary.scalar(name='New_summary',tensor= s_scalar)\n",
        "\n",
        "intl = tf.global_variables_initializer()\n",
        "\n",
        "with tf.Session() as sess:\n",
        "  writer = tf.summary.FileWriter('./logs', sess.graph)\n",
        "\n",
        "  for i in range(100):\n",
        "    sess.run(intl)\n",
        "    summary = sess.run(new_summary)\n",
        "    writer.add_summary(summary,i)\n"
      ],
      "execution_count": 0,
      "outputs": []
    },
    {
      "cell_type": "code",
      "metadata": {
        "id": "wdS2Jlvbn2k6",
        "colab_type": "code",
        "colab": {}
      },
      "source": [
        "#tf.summary.histogram\n",
        "tf.reset_default_graph()\n",
        "s_scalar =tf.get_variable(name='x_scalar',shape=[],initializer=tf.truncated_normal_initializer(mean=0,stddev=1))\n",
        "y_matrix =tf.get_variable(name='Y_Matrix',shape=[40,50],initializer=tf.truncated_normal_initializer(mean=0,stddev=1))\n",
        "\n",
        "#scalar summary for scalar tensor\n",
        "new_summary = tf.summary.scalar(name='New_summary',tensor= s_scalar)\n",
        "\n",
        "#a histogram summary for 2D or 3D matrix\n",
        "\n",
        "histo_summary = tf.summary.histogram('Histo_summary', y_matrix)\n",
        "intl = tf.global_variables_initializer()\n",
        "\n",
        "with tf.Session() as sess:\n",
        "  writer = tf.summary.FileWriter('./logs', sess.graph)\n",
        "\n",
        "  for i in range(100):\n",
        "    sess.run(intl)\n",
        "    summary1,summary2 = sess.run([new_summary,histo_summary])\n",
        "    writer.add_summary(summary1,i)\n",
        "    writer.add_summary(summary2,i)"
      ],
      "execution_count": 0,
      "outputs": []
    }
  ]
}