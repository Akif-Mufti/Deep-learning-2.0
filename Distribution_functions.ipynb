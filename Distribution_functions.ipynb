{
  "nbformat": 4,
  "nbformat_minor": 0,
  "metadata": {
    "colab": {
      "name": "Distribution_functions.ipynb",
      "provenance": [],
      "include_colab_link": true
    },
    "kernelspec": {
      "name": "python3",
      "display_name": "Python 3"
    }
  },
  "cells": [
    {
      "cell_type": "markdown",
      "metadata": {
        "id": "view-in-github",
        "colab_type": "text"
      },
      "source": [
        "<a href=\"https://colab.research.google.com/github/Akif-Mufti/Deep-learning-2.0/blob/master/Distribution_functions.ipynb\" target=\"_parent\"><img src=\"https://colab.research.google.com/assets/colab-badge.svg\" alt=\"Open In Colab\"/></a>"
      ]
    },
    {
      "cell_type": "code",
      "metadata": {
        "id": "G0poSJleSKN5",
        "colab_type": "code",
        "outputId": "cb56f266-0d4d-4f37-f0d6-2ff31c39e8e5",
        "colab": {
          "base_uri": "https://localhost:8080/",
          "height": 34
        }
      },
      "source": [
        "from scipy.stats import norm\n",
        "import matplotlib.pyplot as plt\n",
        "\n",
        "#normal distribution centers at 0 and deviation is 1\n",
        "\n",
        "norm.pdf(0)"
      ],
      "execution_count": 10,
      "outputs": [
        {
          "output_type": "execute_result",
          "data": {
            "text/plain": [
              "0.3989422804014327"
            ]
          },
          "metadata": {
            "tags": []
          },
          "execution_count": 10
        }
      ]
    },
    {
      "cell_type": "code",
      "metadata": {
        "id": "jxIACo7VURgv",
        "colab_type": "code",
        "outputId": "f83424a3-2cc6-4118-cc30-1b407d667041",
        "colab": {
          "base_uri": "https://localhost:8080/",
          "height": 34
        }
      },
      "source": [
        "norm.pdf(0, loc= 0, scale=10)"
      ],
      "execution_count": 0,
      "outputs": [
        {
          "output_type": "execute_result",
          "data": {
            "text/plain": [
              "0.03989422804014327"
            ]
          },
          "metadata": {
            "tags": []
          },
          "execution_count": 3
        }
      ]
    },
    {
      "cell_type": "code",
      "metadata": {
        "id": "GX6oLdIVVddU",
        "colab_type": "code",
        "colab": {}
      },
      "source": [
        "import numpy as np\n",
        "r = np.random.randn(10)"
      ],
      "execution_count": 0,
      "outputs": []
    },
    {
      "cell_type": "code",
      "metadata": {
        "id": "yFV0lRoCVpy-",
        "colab_type": "code",
        "outputId": "7b1508a0-930c-4be4-e4de-05afe4d5f7ae",
        "colab": {
          "base_uri": "https://localhost:8080/",
          "height": 51
        }
      },
      "source": [
        "norm.pdf(r)"
      ],
      "execution_count": 3,
      "outputs": [
        {
          "output_type": "execute_result",
          "data": {
            "text/plain": [
              "array([0.20985891, 0.39063812, 0.1661547 , 0.39883935, 0.38963853,\n",
              "       0.38404739, 0.37516401, 0.35469013, 0.21289742, 0.39451026])"
            ]
          },
          "metadata": {
            "tags": []
          },
          "execution_count": 3
        }
      ]
    },
    {
      "cell_type": "code",
      "metadata": {
        "id": "P9bV-2FlV0PL",
        "colab_type": "code",
        "colab": {}
      },
      "source": [
        "# numpy. random. randn(d0, d1, …, dn) : creates an array of specified shape and fills it with random values as per standard normal distribution.\n"
      ],
      "execution_count": 0,
      "outputs": []
    },
    {
      "cell_type": "code",
      "metadata": {
        "id": "bwAoQJbKWNRk",
        "colab_type": "code",
        "outputId": "ceb3a235-c307-43bd-c67e-a15a066f532f",
        "colab": {
          "base_uri": "https://localhost:8080/",
          "height": 51
        }
      },
      "source": [
        "#it is advantageous to use log probability than to use actual prability because it takes less time.\n",
        "norm.logpdf(r)\n"
      ],
      "execution_count": 4,
      "outputs": [
        {
          "output_type": "execute_result",
          "data": {
            "text/plain": [
              "array([-1.56131985, -0.93997368, -1.794836  , -0.91919656, -0.94253582,\n",
              "       -0.95698932, -0.98039198, -1.03651075, -1.5469448 , -0.93011013])"
            ]
          },
          "metadata": {
            "tags": []
          },
          "execution_count": 4
        }
      ]
    },
    {
      "cell_type": "code",
      "metadata": {
        "id": "jOd2YhK3WyTo",
        "colab_type": "code",
        "outputId": "fb6be30a-35f2-4adb-a9b0-f3840b563b59",
        "colab": {
          "base_uri": "https://localhost:8080/",
          "height": 51
        }
      },
      "source": [
        "#cdf cummulative distribution function\n",
        "\n",
        "norm.cdf(r)"
      ],
      "execution_count": 5,
      "outputs": [
        {
          "output_type": "execute_result",
          "data": {
            "text/plain": [
              "array([0.87149231, 0.41874291, 0.09282562, 0.50906199, 0.41400945,\n",
              "       0.60867418, 0.63704857, 0.31386763, 0.86879639, 0.55941114])"
            ]
          },
          "metadata": {
            "tags": []
          },
          "execution_count": 5
        }
      ]
    },
    {
      "cell_type": "code",
      "metadata": {
        "id": "GjBqiW26W6Qs",
        "colab_type": "code",
        "outputId": "7bf3a050-bfc8-4a86-df88-ad7456f66303",
        "colab": {
          "base_uri": "https://localhost:8080/",
          "height": 51
        }
      },
      "source": [
        "#log of cdf\n",
        "norm.logcdf(r)"
      ],
      "execution_count": 6,
      "outputs": [
        {
          "output_type": "execute_result",
          "data": {
            "text/plain": [
              "array([-0.13754824, -0.87049813, -2.37703258, -0.67518548, -0.88186648,\n",
              "       -0.49647217, -0.45090938, -1.15878393, -0.14064648, -0.58087059])"
            ]
          },
          "metadata": {
            "tags": []
          },
          "execution_count": 6
        }
      ]
    },
    {
      "cell_type": "code",
      "metadata": {
        "id": "gCyMJ2IOt91a",
        "colab_type": "code",
        "colab": {}
      },
      "source": [
        "r= np.random.rand(10000)"
      ],
      "execution_count": 0,
      "outputs": []
    },
    {
      "cell_type": "code",
      "metadata": {
        "id": "ofDNDMLLuW9u",
        "colab_type": "code",
        "colab": {
          "base_uri": "https://localhost:8080/",
          "height": 894
        },
        "outputId": "17896915-30b6-439d-a65e-118889cec948"
      },
      "source": [
        "plt.hist(r,bins =100)"
      ],
      "execution_count": 11,
      "outputs": [
        {
          "output_type": "execute_result",
          "data": {
            "text/plain": [
              "(array([ 88., 103.,  94., 116.,  91.,  88.,  93., 104., 110., 101.,  79.,\n",
              "        107.,  84., 111., 101.,  86.,  93., 102., 109.,  98.,  97.,  95.,\n",
              "         85., 143., 102.,  88., 104., 102.,  91., 106., 111., 104.,  95.,\n",
              "        113., 108.,  94., 109., 108., 106.,  96., 127., 110.,  89.,  88.,\n",
              "         78., 103., 109., 107., 105.,  89.,  97.,  99., 118.,  90., 114.,\n",
              "         95.,  89., 109., 103.,  99.,  92., 125., 104.,  79.,  93., 103.,\n",
              "         85.,  98.,  94.,  97.,  98.,  88., 104., 123.,  94., 109., 104.,\n",
              "         91.,  92., 103.,  87., 117.,  88., 120.,  90.,  97.,  83., 109.,\n",
              "         94., 116.,  81., 117., 102., 107.,  91., 103., 103.,  94.,  99.,\n",
              "         93.]),\n",
              " array([3.31245805e-05, 1.00303481e-02, 2.00275716e-02, 3.00247952e-02,\n",
              "        4.00220187e-02, 5.00192422e-02, 6.00164658e-02, 7.00136893e-02,\n",
              "        8.00109128e-02, 9.00081363e-02, 1.00005360e-01, 1.10002583e-01,\n",
              "        1.19999807e-01, 1.29997030e-01, 1.39994254e-01, 1.49991478e-01,\n",
              "        1.59988701e-01, 1.69985925e-01, 1.79983148e-01, 1.89980372e-01,\n",
              "        1.99977595e-01, 2.09974819e-01, 2.19972042e-01, 2.29969266e-01,\n",
              "        2.39966489e-01, 2.49963713e-01, 2.59960936e-01, 2.69958160e-01,\n",
              "        2.79955383e-01, 2.89952607e-01, 2.99949830e-01, 3.09947054e-01,\n",
              "        3.19944278e-01, 3.29941501e-01, 3.39938725e-01, 3.49935948e-01,\n",
              "        3.59933172e-01, 3.69930395e-01, 3.79927619e-01, 3.89924842e-01,\n",
              "        3.99922066e-01, 4.09919289e-01, 4.19916513e-01, 4.29913736e-01,\n",
              "        4.39910960e-01, 4.49908183e-01, 4.59905407e-01, 4.69902630e-01,\n",
              "        4.79899854e-01, 4.89897078e-01, 4.99894301e-01, 5.09891525e-01,\n",
              "        5.19888748e-01, 5.29885972e-01, 5.39883195e-01, 5.49880419e-01,\n",
              "        5.59877642e-01, 5.69874866e-01, 5.79872089e-01, 5.89869313e-01,\n",
              "        5.99866536e-01, 6.09863760e-01, 6.19860983e-01, 6.29858207e-01,\n",
              "        6.39855430e-01, 6.49852654e-01, 6.59849878e-01, 6.69847101e-01,\n",
              "        6.79844325e-01, 6.89841548e-01, 6.99838772e-01, 7.09835995e-01,\n",
              "        7.19833219e-01, 7.29830442e-01, 7.39827666e-01, 7.49824889e-01,\n",
              "        7.59822113e-01, 7.69819336e-01, 7.79816560e-01, 7.89813783e-01,\n",
              "        7.99811007e-01, 8.09808230e-01, 8.19805454e-01, 8.29802678e-01,\n",
              "        8.39799901e-01, 8.49797125e-01, 8.59794348e-01, 8.69791572e-01,\n",
              "        8.79788795e-01, 8.89786019e-01, 8.99783242e-01, 9.09780466e-01,\n",
              "        9.19777689e-01, 9.29774913e-01, 9.39772136e-01, 9.49769360e-01,\n",
              "        9.59766583e-01, 9.69763807e-01, 9.79761031e-01, 9.89758254e-01,\n",
              "        9.99755478e-01]),\n",
              " <a list of 100 Patch objects>)"
            ]
          },
          "metadata": {
            "tags": []
          },
          "execution_count": 11
        },
        {
          "output_type": "display_data",
          "data": {
            "image/png": "[encoded data removed]",
            "text/plain": [
              "<Figure size 432x288 with 1 Axes>"
            ]
          },
          "metadata": {
            "tags": []
          }
        }
      ]
    },
    {
      "cell_type": "code",
      "metadata": {
        "id": "cfLokk-UuvsI",
        "colab_type": "code",
        "colab": {}
      },
      "source": [
        "plt.show()"
      ],
      "execution_count": 0,
      "outputs": []
    },
    {
      "cell_type": "code",
      "metadata": {
        "id": "duNwqiA5vPaJ",
        "colab_type": "code",
        "colab": {}
      },
      "source": [
        "#10 specifies the stadard deviation and 5 specifies the mean\n",
        "\n",
        "r = 10*np.random.randn(1000)+5"
      ],
      "execution_count": 0,
      "outputs": []
    },
    {
      "cell_type": "code",
      "metadata": {
        "id": "y_DqdcNDvey7",
        "colab_type": "code",
        "colab": {
          "base_uri": "https://localhost:8080/",
          "height": 861
        },
        "outputId": "50b99cca-33c8-4029-f3be-e4e1ba710140"
      },
      "source": [
        "plt.hist(r,bins =100)"
      ],
      "execution_count": 15,
      "outputs": [
        {
          "output_type": "execute_result",
          "data": {
            "text/plain": [
              "(array([ 1.,  0.,  0.,  0.,  0.,  0.,  0.,  0.,  1.,  0.,  0.,  3.,  0.,\n",
              "         0.,  2.,  2.,  0.,  4.,  2.,  1.,  4.,  5.,  5.,  2.,  2.,  3.,\n",
              "         9.,  7.,  6.,  6., 13., 10.,  9.,  7.,  9., 18., 11., 11., 13.,\n",
              "        13., 26., 13.,  9., 29., 15., 17., 12., 27., 22., 18., 21., 20.,\n",
              "        16., 21., 23., 25., 23., 28., 23., 22., 15., 23., 20., 22., 26.,\n",
              "        22., 21., 15., 29., 20., 23., 16., 12., 12., 10., 13., 12.,  8.,\n",
              "         9.,  9., 13.,  3.,  8.,  5.,  2., 11.,  7.,  5.,  6.,  2.,  2.,\n",
              "         0.,  1.,  1.,  2.,  2.,  0.,  1.,  2.,  1.]),\n",
              " array([-28.7378517 , -28.13583367, -27.53381564, -26.93179761,\n",
              "        -26.32977958, -25.72776155, -25.12574352, -24.52372549,\n",
              "        -23.92170746, -23.31968943, -22.7176714 , -22.11565337,\n",
              "        -21.51363534, -20.91161731, -20.30959928, -19.70758125,\n",
              "        -19.10556322, -18.50354519, -17.90152716, -17.29950913,\n",
              "        -16.6974911 , -16.09547307, -15.49345503, -14.891437  ,\n",
              "        -14.28941897, -13.68740094, -13.08538291, -12.48336488,\n",
              "        -11.88134685, -11.27932882, -10.67731079, -10.07529276,\n",
              "         -9.47327473,  -8.8712567 ,  -8.26923867,  -7.66722064,\n",
              "         -7.06520261,  -6.46318458,  -5.86116655,  -5.25914852,\n",
              "         -4.65713049,  -4.05511246,  -3.45309443,  -2.8510764 ,\n",
              "         -2.24905837,  -1.64704033,  -1.0450223 ,  -0.44300427,\n",
              "          0.15901376,   0.76103179,   1.36304982,   1.96506785,\n",
              "          2.56708588,   3.16910391,   3.77112194,   4.37313997,\n",
              "          4.975158  ,   5.57717603,   6.17919406,   6.78121209,\n",
              "          7.38323012,   7.98524815,   8.58726618,   9.18928421,\n",
              "          9.79130224,  10.39332027,  10.9953383 ,  11.59735633,\n",
              "         12.19937436,  12.8013924 ,  13.40341043,  14.00542846,\n",
              "         14.60744649,  15.20946452,  15.81148255,  16.41350058,\n",
              "         17.01551861,  17.61753664,  18.21955467,  18.8215727 ,\n",
              "         19.42359073,  20.02560876,  20.62762679,  21.22964482,\n",
              "         21.83166285,  22.43368088,  23.03569891,  23.63771694,\n",
              "         24.23973497,  24.841753  ,  25.44377103,  26.04578906,\n",
              "         26.6478071 ,  27.24982513,  27.85184316,  28.45386119,\n",
              "         29.05587922,  29.65789725,  30.25991528,  30.86193331,\n",
              "         31.46395134]),\n",
              " <a list of 100 Patch objects>)"
            ]
          },
          "metadata": {
            "tags": []
          },
          "execution_count": 15
        },
        {
          "output_type": "display_data",
          "data": {
            "image/png": "[encoded data removed]",
            "text/plain": [
              "<Figure size 432x288 with 1 Axes>"
            ]
          },
          "metadata": {
            "tags": []
          }
        }
      ]
    }
  ]
}