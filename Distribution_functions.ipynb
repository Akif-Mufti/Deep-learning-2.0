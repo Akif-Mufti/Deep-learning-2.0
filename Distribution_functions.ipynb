{
  "nbformat": 4,
  "nbformat_minor": 0,
  "metadata": {
    "colab": {
      "name": "Distribution_functions.ipynb",
      "provenance": [],
      "include_colab_link": true
    },
    "kernelspec": {
      "name": "python3",
      "display_name": "Python 3"
    }
  },
  "cells": [
    {
      "cell_type": "markdown",
      "metadata": {
        "id": "view-in-github",
        "colab_type": "text"
      },
      "source": [
        "<a href=\"https://colab.research.google.com/github/Akif-Mufti/Deep-learning-2.0/blob/master/Distribution_functions.ipynb\" target=\"_parent\"><img src=\"https://colab.research.google.com/assets/colab-badge.svg\" alt=\"Open In Colab\"/></a>"
      ]
    },
    {
      "cell_type": "code",
      "metadata": {
        "id": "G0poSJleSKN5",
        "colab_type": "code",
        "colab": {
          "base_uri": "https://localhost:8080/",
          "height": 34
        },
        "outputId": "e62b09b4-6ebe-43d3-9eed-5def25b18194"
      },
      "source": [
        "from scipy.stats import norm\n",
        "\n",
        "#normal distribution centers at 0 and deviation is 1\n",
        "\n",
        "norm.pdf(0)"
      ],
      "execution_count": 2,
      "outputs": [
        {
          "output_type": "execute_result",
          "data": {
            "text/plain": [
              "0.3989422804014327"
            ]
          },
          "metadata": {
            "tags": []
          },
          "execution_count": 2
        }
      ]
    },
    {
      "cell_type": "code",
      "metadata": {
        "id": "jxIACo7VURgv",
        "colab_type": "code",
        "colab": {
          "base_uri": "https://localhost:8080/",
          "height": 34
        },
        "outputId": "f83424a3-2cc6-4118-cc30-1b407d667041"
      },
      "source": [
        "norm.pdf(0, loc= 0, scale=10)"
      ],
      "execution_count": 3,
      "outputs": [
        {
          "output_type": "execute_result",
          "data": {
            "text/plain": [
              "0.03989422804014327"
            ]
          },
          "metadata": {
            "tags": []
          },
          "execution_count": 3
        }
      ]
    },
    {
      "cell_type": "code",
      "metadata": {
        "id": "GX6oLdIVVddU",
        "colab_type": "code",
        "colab": {}
      },
      "source": [
        "import numpy as np\n",
        "r = np.random.randn(10)"
      ],
      "execution_count": 0,
      "outputs": []
    },
    {
      "cell_type": "code",
      "metadata": {
        "id": "yFV0lRoCVpy-",
        "colab_type": "code",
        "colab": {
          "base_uri": "https://localhost:8080/",
          "height": 51
        },
        "outputId": "4bb8e0e7-53e7-401f-eab8-7f548eb272cf"
      },
      "source": [
        "norm.pdf(r)"
      ],
      "execution_count": 5,
      "outputs": [
        {
          "output_type": "execute_result",
          "data": {
            "text/plain": [
              "array([0.28781072, 0.39417763, 0.39773992, 0.1335932 , 0.39729874,\n",
              "       0.37552831, 0.0401925 , 0.37892475, 0.29600415, 0.17703863])"
            ]
          },
          "metadata": {
            "tags": []
          },
          "execution_count": 5
        }
      ]
    },
    {
      "cell_type": "code",
      "metadata": {
        "id": "P9bV-2FlV0PL",
        "colab_type": "code",
        "colab": {}
      },
      "source": [
        "# numpy. random. randn(d0, d1, …, dn) : creates an array of specified shape and fills it with random values as per standard normal distribution.\n"
      ],
      "execution_count": 0,
      "outputs": []
    },
    {
      "cell_type": "code",
      "metadata": {
        "id": "bwAoQJbKWNRk",
        "colab_type": "code",
        "colab": {
          "base_uri": "https://localhost:8080/",
          "height": 51
        },
        "outputId": "8e6626df-94c1-46ee-87fa-23de47aa5967"
      },
      "source": [
        "#it is advantageous to use log probability than to use actual prability because it takes less time.\n",
        "norm.logpdf(r)\n"
      ],
      "execution_count": 6,
      "outputs": [
        {
          "output_type": "execute_result",
          "data": {
            "text/plain": [
              "array([-1.24545222, -0.93095364, -0.92195696, -2.01295591, -0.9230668 ,\n",
              "       -0.97942141, -3.21407486, -0.97041763, -1.21738182, -1.7313873 ])"
            ]
          },
          "metadata": {
            "tags": []
          },
          "execution_count": 6
        }
      ]
    },
    {
      "cell_type": "code",
      "metadata": {
        "id": "jOd2YhK3WyTo",
        "colab_type": "code",
        "colab": {
          "base_uri": "https://localhost:8080/",
          "height": 51
        },
        "outputId": "f0395a0e-e157-48a1-b670-162f6350bfaa"
      },
      "source": [
        "#cdf cummulative distribution function\n",
        "\n",
        "norm.cdf(r)"
      ],
      "execution_count": 7,
      "outputs": [
        {
          "output_type": "execute_result",
          "data": {
            "text/plain": [
              "array([0.20951619, 0.43840404, 0.53096552, 0.06954334, 0.53620026,\n",
              "       0.3639947 , 0.98392305, 0.37415408, 0.21988421, 0.10120512])"
            ]
          },
          "metadata": {
            "tags": []
          },
          "execution_count": 7
        }
      ]
    },
    {
      "cell_type": "code",
      "metadata": {
        "id": "GjBqiW26W6Qs",
        "colab_type": "code",
        "colab": {
          "base_uri": "https://localhost:8080/",
          "height": 51
        },
        "outputId": "5a8721ee-abdb-4371-c49d-1dc6f126f98a"
      },
      "source": [
        "#log of cdf\n",
        "norm.logcdf(r)"
      ],
      "execution_count": 9,
      "outputs": [
        {
          "output_type": "execute_result",
          "data": {
            "text/plain": [
              "array([-1.56295425, -0.82461434, -0.6330582 , -2.66580514, -0.62324758,\n",
              "       -1.01061598, -0.01620759, -0.98308759, -1.5146542 , -2.2906059 ])"
            ]
          },
          "metadata": {
            "tags": []
          },
          "execution_count": 9
        }
      ]
    }
  ]
}