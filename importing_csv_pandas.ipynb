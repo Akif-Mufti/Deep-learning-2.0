{
  "nbformat": 4,
  "nbformat_minor": 0,
  "metadata": {
    "colab": {
      "name": "importing_csv_pandas.ipynb",
      "provenance": [],
      "include_colab_link": true
    },
    "kernelspec": {
      "name": "python3",
      "display_name": "Python 3"
    }
  },
  "cells": [
    {
      "cell_type": "markdown",
      "metadata": {
        "id": "view-in-github",
        "colab_type": "text"
      },
      "source": [
        "<a href=\"https://colab.research.google.com/github/Akif-Mufti/Deep-learning-2.0/blob/master/importing_csv_pandas.ipynb\" target=\"_parent\"><img src=\"https://colab.research.google.com/assets/colab-badge.svg\" alt=\"Open In Colab\"/></a>"
      ]
    },
    {
      "cell_type": "code",
      "metadata": {
        "id": "CGqYcJRWRJeu",
        "colab_type": "code",
        "colab": {}
      },
      "source": [
        "#this package is much like R\n",
        "\n",
        "#panda dataframes are for 2d objects and panda series is for 1d object\n",
        "\n",
        "\n",
        "import pandas as pd\n",
        "\n",
        "X= pd.read_csv(\"data_2d.csv\", header = None)\n"
      ],
      "execution_count": 0,
      "outputs": []
    },
    {
      "cell_type": "code",
      "metadata": {
        "id": "WdrP8R-paQJF",
        "colab_type": "code",
        "colab": {}
      },
      "source": [
        ""
      ],
      "execution_count": 0,
      "outputs": []
    },
    {
      "cell_type": "code",
      "metadata": {
        "id": "1VYmSJwhRuy_",
        "colab_type": "code",
        "outputId": "5e8ddecd-80aa-43ab-d6b2-ef846277a887",
        "colab": {
          "base_uri": "https://localhost:8080/",
          "height": 153
        }
      },
      "source": [
        "X.info()"
      ],
      "execution_count": 3,
      "outputs": [
        {
          "output_type": "stream",
          "text": [
            "<class 'pandas.core.frame.DataFrame'>\n",
            "RangeIndex: 100 entries, 0 to 99\n",
            "Data columns (total 3 columns):\n",
            "0    100 non-null float64\n",
            "1    100 non-null float64\n",
            "2    100 non-null float64\n",
            "dtypes: float64(3)\n",
            "memory usage: 2.5 KB\n"
          ],
          "name": "stdout"
        }
      ]
    },
    {
      "cell_type": "code",
      "metadata": {
        "id": "JbD_yXb3UyMG",
        "colab_type": "code",
        "outputId": "567aa56f-2b20-4a8c-88ec-ff74ce16f174",
        "colab": {
          "base_uri": "https://localhost:8080/",
          "height": 204
        }
      },
      "source": [
        "#pandas will try to use most specific data type possible. If you have string in one cell, then it will use string in every cell.\n",
        "\n",
        "# see specific number of rows\n",
        "\n",
        "X.head()"
      ],
      "execution_count": 4,
      "outputs": [
        {
          "output_type": "execute_result",
          "data": {
            "text/html": [
              "<div>\n",
              "<style scoped>\n",
              "    .dataframe tbody tr th:only-of-type {\n",
              "        vertical-align: middle;\n",
              "    }\n",
              "\n",
              "    .dataframe tbody tr th {\n",
              "        vertical-align: top;\n",
              "    }\n",
              "\n",
              "    .dataframe thead th {\n",
              "        text-align: right;\n",
              "    }\n",
              "</style>\n",
              "<table border=\"1\" class=\"dataframe\">\n",
              "  <thead>\n",
              "    <tr style=\"text-align: right;\">\n",
              "      <th></th>\n",
              "      <th>0</th>\n",
              "      <th>1</th>\n",
              "      <th>2</th>\n",
              "    </tr>\n",
              "  </thead>\n",
              "  <tbody>\n",
              "    <tr>\n",
              "      <th>0</th>\n",
              "      <td>17.930201</td>\n",
              "      <td>94.520592</td>\n",
              "      <td>320.259530</td>\n",
              "    </tr>\n",
              "    <tr>\n",
              "      <th>1</th>\n",
              "      <td>97.144697</td>\n",
              "      <td>69.593282</td>\n",
              "      <td>404.634472</td>\n",
              "    </tr>\n",
              "    <tr>\n",
              "      <th>2</th>\n",
              "      <td>81.775901</td>\n",
              "      <td>5.737648</td>\n",
              "      <td>181.485108</td>\n",
              "    </tr>\n",
              "    <tr>\n",
              "      <th>3</th>\n",
              "      <td>55.854342</td>\n",
              "      <td>70.325902</td>\n",
              "      <td>321.773638</td>\n",
              "    </tr>\n",
              "    <tr>\n",
              "      <th>4</th>\n",
              "      <td>49.366550</td>\n",
              "      <td>75.114040</td>\n",
              "      <td>322.465486</td>\n",
              "    </tr>\n",
              "  </tbody>\n",
              "</table>\n",
              "</div>"
            ],
            "text/plain": [
              "           0          1           2\n",
              "0  17.930201  94.520592  320.259530\n",
              "1  97.144697  69.593282  404.634472\n",
              "2  81.775901   5.737648  181.485108\n",
              "3  55.854342  70.325902  321.773638\n",
              "4  49.366550  75.114040  322.465486"
            ]
          },
          "metadata": {
            "tags": []
          },
          "execution_count": 4
        }
      ]
    },
    {
      "cell_type": "code",
      "metadata": {
        "id": "JekrcoMjVWOo",
        "colab_type": "code",
        "outputId": "a913b71d-6326-48a1-da78-30d4a45a6a2d",
        "colab": {
          "base_uri": "https://localhost:8080/",
          "height": 669
        }
      },
      "source": [
        "X.head(20)"
      ],
      "execution_count": 5,
      "outputs": [
        {
          "output_type": "execute_result",
          "data": {
            "text/html": [
              "<div>\n",
              "<style scoped>\n",
              "    .dataframe tbody tr th:only-of-type {\n",
              "        vertical-align: middle;\n",
              "    }\n",
              "\n",
              "    .dataframe tbody tr th {\n",
              "        vertical-align: top;\n",
              "    }\n",
              "\n",
              "    .dataframe thead th {\n",
              "        text-align: right;\n",
              "    }\n",
              "</style>\n",
              "<table border=\"1\" class=\"dataframe\">\n",
              "  <thead>\n",
              "    <tr style=\"text-align: right;\">\n",
              "      <th></th>\n",
              "      <th>0</th>\n",
              "      <th>1</th>\n",
              "      <th>2</th>\n",
              "    </tr>\n",
              "  </thead>\n",
              "  <tbody>\n",
              "    <tr>\n",
              "      <th>0</th>\n",
              "      <td>17.930201</td>\n",
              "      <td>94.520592</td>\n",
              "      <td>320.259530</td>\n",
              "    </tr>\n",
              "    <tr>\n",
              "      <th>1</th>\n",
              "      <td>97.144697</td>\n",
              "      <td>69.593282</td>\n",
              "      <td>404.634472</td>\n",
              "    </tr>\n",
              "    <tr>\n",
              "      <th>2</th>\n",
              "      <td>81.775901</td>\n",
              "      <td>5.737648</td>\n",
              "      <td>181.485108</td>\n",
              "    </tr>\n",
              "    <tr>\n",
              "      <th>3</th>\n",
              "      <td>55.854342</td>\n",
              "      <td>70.325902</td>\n",
              "      <td>321.773638</td>\n",
              "    </tr>\n",
              "    <tr>\n",
              "      <th>4</th>\n",
              "      <td>49.366550</td>\n",
              "      <td>75.114040</td>\n",
              "      <td>322.465486</td>\n",
              "    </tr>\n",
              "    <tr>\n",
              "      <th>5</th>\n",
              "      <td>3.192702</td>\n",
              "      <td>29.256299</td>\n",
              "      <td>94.618811</td>\n",
              "    </tr>\n",
              "    <tr>\n",
              "      <th>6</th>\n",
              "      <td>49.200784</td>\n",
              "      <td>86.144439</td>\n",
              "      <td>356.348093</td>\n",
              "    </tr>\n",
              "    <tr>\n",
              "      <th>7</th>\n",
              "      <td>21.882804</td>\n",
              "      <td>46.841505</td>\n",
              "      <td>181.653769</td>\n",
              "    </tr>\n",
              "    <tr>\n",
              "      <th>8</th>\n",
              "      <td>79.509863</td>\n",
              "      <td>87.397356</td>\n",
              "      <td>423.557743</td>\n",
              "    </tr>\n",
              "    <tr>\n",
              "      <th>9</th>\n",
              "      <td>88.153887</td>\n",
              "      <td>65.205642</td>\n",
              "      <td>369.229245</td>\n",
              "    </tr>\n",
              "    <tr>\n",
              "      <th>10</th>\n",
              "      <td>60.743854</td>\n",
              "      <td>99.957634</td>\n",
              "      <td>427.605804</td>\n",
              "    </tr>\n",
              "    <tr>\n",
              "      <th>11</th>\n",
              "      <td>67.415582</td>\n",
              "      <td>50.368310</td>\n",
              "      <td>292.471822</td>\n",
              "    </tr>\n",
              "    <tr>\n",
              "      <th>12</th>\n",
              "      <td>48.318116</td>\n",
              "      <td>99.128953</td>\n",
              "      <td>395.529811</td>\n",
              "    </tr>\n",
              "    <tr>\n",
              "      <th>13</th>\n",
              "      <td>28.829972</td>\n",
              "      <td>87.184949</td>\n",
              "      <td>319.031348</td>\n",
              "    </tr>\n",
              "    <tr>\n",
              "      <th>14</th>\n",
              "      <td>43.853743</td>\n",
              "      <td>64.473639</td>\n",
              "      <td>287.428144</td>\n",
              "    </tr>\n",
              "    <tr>\n",
              "      <th>15</th>\n",
              "      <td>25.313694</td>\n",
              "      <td>83.545294</td>\n",
              "      <td>292.768909</td>\n",
              "    </tr>\n",
              "    <tr>\n",
              "      <th>16</th>\n",
              "      <td>10.807727</td>\n",
              "      <td>45.695569</td>\n",
              "      <td>159.663308</td>\n",
              "    </tr>\n",
              "    <tr>\n",
              "      <th>17</th>\n",
              "      <td>98.365746</td>\n",
              "      <td>82.697394</td>\n",
              "      <td>438.798964</td>\n",
              "    </tr>\n",
              "    <tr>\n",
              "      <th>18</th>\n",
              "      <td>29.146910</td>\n",
              "      <td>66.365107</td>\n",
              "      <td>250.986309</td>\n",
              "    </tr>\n",
              "    <tr>\n",
              "      <th>19</th>\n",
              "      <td>65.100302</td>\n",
              "      <td>33.353883</td>\n",
              "      <td>231.711508</td>\n",
              "    </tr>\n",
              "  </tbody>\n",
              "</table>\n",
              "</div>"
            ],
            "text/plain": [
              "            0          1           2\n",
              "0   17.930201  94.520592  320.259530\n",
              "1   97.144697  69.593282  404.634472\n",
              "2   81.775901   5.737648  181.485108\n",
              "3   55.854342  70.325902  321.773638\n",
              "4   49.366550  75.114040  322.465486\n",
              "5    3.192702  29.256299   94.618811\n",
              "6   49.200784  86.144439  356.348093\n",
              "7   21.882804  46.841505  181.653769\n",
              "8   79.509863  87.397356  423.557743\n",
              "9   88.153887  65.205642  369.229245\n",
              "10  60.743854  99.957634  427.605804\n",
              "11  67.415582  50.368310  292.471822\n",
              "12  48.318116  99.128953  395.529811\n",
              "13  28.829972  87.184949  319.031348\n",
              "14  43.853743  64.473639  287.428144\n",
              "15  25.313694  83.545294  292.768909\n",
              "16  10.807727  45.695569  159.663308\n",
              "17  98.365746  82.697394  438.798964\n",
              "18  29.146910  66.365107  250.986309\n",
              "19  65.100302  33.353883  231.711508"
            ]
          },
          "metadata": {
            "tags": []
          },
          "execution_count": 5
        }
      ]
    },
    {
      "cell_type": "code",
      "metadata": {
        "id": "MDxE7APEahLe",
        "colab_type": "code",
        "colab": {
          "base_uri": "https://localhost:8080/",
          "height": 221
        },
        "outputId": "ba58656f-6ca0-4081-fe95-65e4addad92d"
      },
      "source": [
        "X[0]"
      ],
      "execution_count": 6,
      "outputs": [
        {
          "output_type": "execute_result",
          "data": {
            "text/plain": [
              "0     17.930201\n",
              "1     97.144697\n",
              "2     81.775901\n",
              "3     55.854342\n",
              "4     49.366550\n",
              "        ...    \n",
              "95    46.456779\n",
              "96    77.130301\n",
              "97    68.600608\n",
              "98    41.693887\n",
              "99     4.142669\n",
              "Name: 0, Length: 100, dtype: float64"
            ]
          },
          "metadata": {
            "tags": []
          },
          "execution_count": 6
        }
      ]
    },
    {
      "cell_type": "code",
      "metadata": {
        "id": "jKfBQB6karI0",
        "colab_type": "code",
        "colab": {
          "base_uri": "https://localhost:8080/",
          "height": 34
        },
        "outputId": "75066195-3549-46a5-b1a9-4d0e7cc9f320"
      },
      "source": [
        "type(X[0])"
      ],
      "execution_count": 7,
      "outputs": [
        {
          "output_type": "execute_result",
          "data": {
            "text/plain": [
              "pandas.core.series.Series"
            ]
          },
          "metadata": {
            "tags": []
          },
          "execution_count": 7
        }
      ]
    },
    {
      "cell_type": "code",
      "metadata": {
        "id": "DF_bboxDbF1l",
        "colab_type": "code",
        "colab": {
          "base_uri": "https://localhost:8080/",
          "height": 419
        },
        "outputId": "54caf40d-0c85-49dc-cd5e-a65ef03fa6d5"
      },
      "source": [
        "#selecting oth and 2nd column\n",
        "\n",
        "X[[0,2]]"
      ],
      "execution_count": 8,
      "outputs": [
        {
          "output_type": "execute_result",
          "data": {
            "text/html": [
              "<div>\n",
              "<style scoped>\n",
              "    .dataframe tbody tr th:only-of-type {\n",
              "        vertical-align: middle;\n",
              "    }\n",
              "\n",
              "    .dataframe tbody tr th {\n",
              "        vertical-align: top;\n",
              "    }\n",
              "\n",
              "    .dataframe thead th {\n",
              "        text-align: right;\n",
              "    }\n",
              "</style>\n",
              "<table border=\"1\" class=\"dataframe\">\n",
              "  <thead>\n",
              "    <tr style=\"text-align: right;\">\n",
              "      <th></th>\n",
              "      <th>0</th>\n",
              "      <th>2</th>\n",
              "    </tr>\n",
              "  </thead>\n",
              "  <tbody>\n",
              "    <tr>\n",
              "      <th>0</th>\n",
              "      <td>17.930201</td>\n",
              "      <td>320.259530</td>\n",
              "    </tr>\n",
              "    <tr>\n",
              "      <th>1</th>\n",
              "      <td>97.144697</td>\n",
              "      <td>404.634472</td>\n",
              "    </tr>\n",
              "    <tr>\n",
              "      <th>2</th>\n",
              "      <td>81.775901</td>\n",
              "      <td>181.485108</td>\n",
              "    </tr>\n",
              "    <tr>\n",
              "      <th>3</th>\n",
              "      <td>55.854342</td>\n",
              "      <td>321.773638</td>\n",
              "    </tr>\n",
              "    <tr>\n",
              "      <th>4</th>\n",
              "      <td>49.366550</td>\n",
              "      <td>322.465486</td>\n",
              "    </tr>\n",
              "    <tr>\n",
              "      <th>...</th>\n",
              "      <td>...</td>\n",
              "      <td>...</td>\n",
              "    </tr>\n",
              "    <tr>\n",
              "      <th>95</th>\n",
              "      <td>46.456779</td>\n",
              "      <td>336.876154</td>\n",
              "    </tr>\n",
              "    <tr>\n",
              "      <th>96</th>\n",
              "      <td>77.130301</td>\n",
              "      <td>438.460586</td>\n",
              "    </tr>\n",
              "    <tr>\n",
              "      <th>97</th>\n",
              "      <td>68.600608</td>\n",
              "      <td>355.900287</td>\n",
              "    </tr>\n",
              "    <tr>\n",
              "      <th>98</th>\n",
              "      <td>41.693887</td>\n",
              "      <td>284.834637</td>\n",
              "    </tr>\n",
              "    <tr>\n",
              "      <th>99</th>\n",
              "      <td>4.142669</td>\n",
              "      <td>168.034401</td>\n",
              "    </tr>\n",
              "  </tbody>\n",
              "</table>\n",
              "<p>100 rows × 2 columns</p>\n",
              "</div>"
            ],
            "text/plain": [
              "            0           2\n",
              "0   17.930201  320.259530\n",
              "1   97.144697  404.634472\n",
              "2   81.775901  181.485108\n",
              "3   55.854342  321.773638\n",
              "4   49.366550  322.465486\n",
              "..        ...         ...\n",
              "95  46.456779  336.876154\n",
              "96  77.130301  438.460586\n",
              "97  68.600608  355.900287\n",
              "98  41.693887  284.834637\n",
              "99   4.142669  168.034401\n",
              "\n",
              "[100 rows x 2 columns]"
            ]
          },
          "metadata": {
            "tags": []
          },
          "execution_count": 8
        }
      ]
    },
    {
      "cell_type": "code",
      "metadata": {
        "id": "JG9oQ6hnbcZY",
        "colab_type": "code",
        "colab": {
          "base_uri": "https://localhost:8080/",
          "height": 204
        },
        "outputId": "f53099f7-3d09-46a2-8a39-11f10a72e68e"
      },
      "source": [
        "#selecting rows with certain critera\n",
        "\n",
        "X[X[0]<5]"
      ],
      "execution_count": 10,
      "outputs": [
        {
          "output_type": "execute_result",
          "data": {
            "text/html": [
              "<div>\n",
              "<style scoped>\n",
              "    .dataframe tbody tr th:only-of-type {\n",
              "        vertical-align: middle;\n",
              "    }\n",
              "\n",
              "    .dataframe tbody tr th {\n",
              "        vertical-align: top;\n",
              "    }\n",
              "\n",
              "    .dataframe thead th {\n",
              "        text-align: right;\n",
              "    }\n",
              "</style>\n",
              "<table border=\"1\" class=\"dataframe\">\n",
              "  <thead>\n",
              "    <tr style=\"text-align: right;\">\n",
              "      <th></th>\n",
              "      <th>0</th>\n",
              "      <th>1</th>\n",
              "      <th>2</th>\n",
              "    </tr>\n",
              "  </thead>\n",
              "  <tbody>\n",
              "    <tr>\n",
              "      <th>5</th>\n",
              "      <td>3.192702</td>\n",
              "      <td>29.256299</td>\n",
              "      <td>94.618811</td>\n",
              "    </tr>\n",
              "    <tr>\n",
              "      <th>44</th>\n",
              "      <td>3.593966</td>\n",
              "      <td>96.252217</td>\n",
              "      <td>293.237183</td>\n",
              "    </tr>\n",
              "    <tr>\n",
              "      <th>54</th>\n",
              "      <td>4.593463</td>\n",
              "      <td>46.335932</td>\n",
              "      <td>145.818745</td>\n",
              "    </tr>\n",
              "    <tr>\n",
              "      <th>90</th>\n",
              "      <td>1.382983</td>\n",
              "      <td>84.944087</td>\n",
              "      <td>252.905653</td>\n",
              "    </tr>\n",
              "    <tr>\n",
              "      <th>99</th>\n",
              "      <td>4.142669</td>\n",
              "      <td>52.254726</td>\n",
              "      <td>168.034401</td>\n",
              "    </tr>\n",
              "  </tbody>\n",
              "</table>\n",
              "</div>"
            ],
            "text/plain": [
              "           0          1           2\n",
              "5   3.192702  29.256299   94.618811\n",
              "44  3.593966  96.252217  293.237183\n",
              "54  4.593463  46.335932  145.818745\n",
              "90  1.382983  84.944087  252.905653\n",
              "99  4.142669  52.254726  168.034401"
            ]
          },
          "metadata": {
            "tags": []
          },
          "execution_count": 10
        }
      ]
    },
    {
      "cell_type": "code",
      "metadata": {
        "id": "LLDG3Fdsb39d",
        "colab_type": "code",
        "colab": {
          "base_uri": "https://localhost:8080/",
          "height": 221
        },
        "outputId": "2f667b2f-7472-437f-8104-a5b84dacac07"
      },
      "source": [
        "#verification\n",
        "X[0]<5"
      ],
      "execution_count": 11,
      "outputs": [
        {
          "output_type": "execute_result",
          "data": {
            "text/plain": [
              "0     False\n",
              "1     False\n",
              "2     False\n",
              "3     False\n",
              "4     False\n",
              "      ...  \n",
              "95    False\n",
              "96    False\n",
              "97    False\n",
              "98    False\n",
              "99     True\n",
              "Name: 0, Length: 100, dtype: bool"
            ]
          },
          "metadata": {
            "tags": []
          },
          "execution_count": 11
        }
      ]
    }
  ]
}