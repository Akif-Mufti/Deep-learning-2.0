{
  "nbformat": 4,
  "nbformat_minor": 0,
  "metadata": {
    "colab": {
      "name": "importing_csv_pandas.ipynb",
      "provenance": [],
      "include_colab_link": true
    },
    "kernelspec": {
      "name": "python3",
      "display_name": "Python 3"
    }
  },
  "cells": [
    {
      "cell_type": "markdown",
      "metadata": {
        "id": "view-in-github",
        "colab_type": "text"
      },
      "source": [
        "<a href=\"https://colab.research.google.com/github/Akif-Mufti/Deep-learning-2.0/blob/master/importing_csv_pandas.ipynb\" target=\"_parent\"><img src=\"https://colab.research.google.com/assets/colab-badge.svg\" alt=\"Open In Colab\"/></a>"
      ]
    },
    {
      "cell_type": "code",
      "metadata": {
        "id": "CGqYcJRWRJeu",
        "colab_type": "code",
        "colab": {}
      },
      "source": [
        "#this package is much like R\n",
        "\n",
        "import pandas as pd\n",
        "\n",
        "X= pd.read_csv(\"data_2d.csv\", header = None)\n"
      ],
      "execution_count": 0,
      "outputs": []
    },
    {
      "cell_type": "code",
      "metadata": {
        "id": "1VYmSJwhRuy_",
        "colab_type": "code",
        "colab": {
          "base_uri": "https://localhost:8080/",
          "height": 153
        },
        "outputId": "96e3d7fa-9917-4ef0-b0e5-7ce2235ae966"
      },
      "source": [
        "X.info()"
      ],
      "execution_count": 2,
      "outputs": [
        {
          "output_type": "stream",
          "text": [
            "<class 'pandas.core.frame.DataFrame'>\n",
            "RangeIndex: 100 entries, 0 to 99\n",
            "Data columns (total 3 columns):\n",
            "0    100 non-null float64\n",
            "1    100 non-null float64\n",
            "2    100 non-null float64\n",
            "dtypes: float64(3)\n",
            "memory usage: 2.5 KB\n"
          ],
          "name": "stdout"
        }
      ]
    },
    {
      "cell_type": "code",
      "metadata": {
        "id": "JbD_yXb3UyMG",
        "colab_type": "code",
        "colab": {
          "base_uri": "https://localhost:8080/",
          "height": 204
        },
        "outputId": "02dee1a9-8b4b-423a-ae3b-548a2b5dc055"
      },
      "source": [
        "#pandas will try to use most specific data type possible. If you have string in one cell, then it will use string in every cell.\n",
        "\n",
        "# see specific number of rows\n",
        "\n",
        "X.head()"
      ],
      "execution_count": 3,
      "outputs": [
        {
          "output_type": "execute_result",
          "data": {
            "text/html": [
              "<div>\n",
              "<style scoped>\n",
              "    .dataframe tbody tr th:only-of-type {\n",
              "        vertical-align: middle;\n",
              "    }\n",
              "\n",
              "    .dataframe tbody tr th {\n",
              "        vertical-align: top;\n",
              "    }\n",
              "\n",
              "    .dataframe thead th {\n",
              "        text-align: right;\n",
              "    }\n",
              "</style>\n",
              "<table border=\"1\" class=\"dataframe\">\n",
              "  <thead>\n",
              "    <tr style=\"text-align: right;\">\n",
              "      <th></th>\n",
              "      <th>0</th>\n",
              "      <th>1</th>\n",
              "      <th>2</th>\n",
              "    </tr>\n",
              "  </thead>\n",
              "  <tbody>\n",
              "    <tr>\n",
              "      <th>0</th>\n",
              "      <td>17.930201</td>\n",
              "      <td>94.520592</td>\n",
              "      <td>320.259530</td>\n",
              "    </tr>\n",
              "    <tr>\n",
              "      <th>1</th>\n",
              "      <td>97.144697</td>\n",
              "      <td>69.593282</td>\n",
              "      <td>404.634472</td>\n",
              "    </tr>\n",
              "    <tr>\n",
              "      <th>2</th>\n",
              "      <td>81.775901</td>\n",
              "      <td>5.737648</td>\n",
              "      <td>181.485108</td>\n",
              "    </tr>\n",
              "    <tr>\n",
              "      <th>3</th>\n",
              "      <td>55.854342</td>\n",
              "      <td>70.325902</td>\n",
              "      <td>321.773638</td>\n",
              "    </tr>\n",
              "    <tr>\n",
              "      <th>4</th>\n",
              "      <td>49.366550</td>\n",
              "      <td>75.114040</td>\n",
              "      <td>322.465486</td>\n",
              "    </tr>\n",
              "  </tbody>\n",
              "</table>\n",
              "</div>"
            ],
            "text/plain": [
              "           0          1           2\n",
              "0  17.930201  94.520592  320.259530\n",
              "1  97.144697  69.593282  404.634472\n",
              "2  81.775901   5.737648  181.485108\n",
              "3  55.854342  70.325902  321.773638\n",
              "4  49.366550  75.114040  322.465486"
            ]
          },
          "metadata": {
            "tags": []
          },
          "execution_count": 3
        }
      ]
    },
    {
      "cell_type": "code",
      "metadata": {
        "id": "JekrcoMjVWOo",
        "colab_type": "code",
        "colab": {
          "base_uri": "https://localhost:8080/",
          "height": 669
        },
        "outputId": "1c8b6741-27b6-4d42-ceba-4d65e03630b4"
      },
      "source": [
        "X.head(20)"
      ],
      "execution_count": 4,
      "outputs": [
        {
          "output_type": "execute_result",
          "data": {
            "text/html": [
              "<div>\n",
              "<style scoped>\n",
              "    .dataframe tbody tr th:only-of-type {\n",
              "        vertical-align: middle;\n",
              "    }\n",
              "\n",
              "    .dataframe tbody tr th {\n",
              "        vertical-align: top;\n",
              "    }\n",
              "\n",
              "    .dataframe thead th {\n",
              "        text-align: right;\n",
              "    }\n",
              "</style>\n",
              "<table border=\"1\" class=\"dataframe\">\n",
              "  <thead>\n",
              "    <tr style=\"text-align: right;\">\n",
              "      <th></th>\n",
              "      <th>0</th>\n",
              "      <th>1</th>\n",
              "      <th>2</th>\n",
              "    </tr>\n",
              "  </thead>\n",
              "  <tbody>\n",
              "    <tr>\n",
              "      <th>0</th>\n",
              "      <td>17.930201</td>\n",
              "      <td>94.520592</td>\n",
              "      <td>320.259530</td>\n",
              "    </tr>\n",
              "    <tr>\n",
              "      <th>1</th>\n",
              "      <td>97.144697</td>\n",
              "      <td>69.593282</td>\n",
              "      <td>404.634472</td>\n",
              "    </tr>\n",
              "    <tr>\n",
              "      <th>2</th>\n",
              "      <td>81.775901</td>\n",
              "      <td>5.737648</td>\n",
              "      <td>181.485108</td>\n",
              "    </tr>\n",
              "    <tr>\n",
              "      <th>3</th>\n",
              "      <td>55.854342</td>\n",
              "      <td>70.325902</td>\n",
              "      <td>321.773638</td>\n",
              "    </tr>\n",
              "    <tr>\n",
              "      <th>4</th>\n",
              "      <td>49.366550</td>\n",
              "      <td>75.114040</td>\n",
              "      <td>322.465486</td>\n",
              "    </tr>\n",
              "    <tr>\n",
              "      <th>5</th>\n",
              "      <td>3.192702</td>\n",
              "      <td>29.256299</td>\n",
              "      <td>94.618811</td>\n",
              "    </tr>\n",
              "    <tr>\n",
              "      <th>6</th>\n",
              "      <td>49.200784</td>\n",
              "      <td>86.144439</td>\n",
              "      <td>356.348093</td>\n",
              "    </tr>\n",
              "    <tr>\n",
              "      <th>7</th>\n",
              "      <td>21.882804</td>\n",
              "      <td>46.841505</td>\n",
              "      <td>181.653769</td>\n",
              "    </tr>\n",
              "    <tr>\n",
              "      <th>8</th>\n",
              "      <td>79.509863</td>\n",
              "      <td>87.397356</td>\n",
              "      <td>423.557743</td>\n",
              "    </tr>\n",
              "    <tr>\n",
              "      <th>9</th>\n",
              "      <td>88.153887</td>\n",
              "      <td>65.205642</td>\n",
              "      <td>369.229245</td>\n",
              "    </tr>\n",
              "    <tr>\n",
              "      <th>10</th>\n",
              "      <td>60.743854</td>\n",
              "      <td>99.957634</td>\n",
              "      <td>427.605804</td>\n",
              "    </tr>\n",
              "    <tr>\n",
              "      <th>11</th>\n",
              "      <td>67.415582</td>\n",
              "      <td>50.368310</td>\n",
              "      <td>292.471822</td>\n",
              "    </tr>\n",
              "    <tr>\n",
              "      <th>12</th>\n",
              "      <td>48.318116</td>\n",
              "      <td>99.128953</td>\n",
              "      <td>395.529811</td>\n",
              "    </tr>\n",
              "    <tr>\n",
              "      <th>13</th>\n",
              "      <td>28.829972</td>\n",
              "      <td>87.184949</td>\n",
              "      <td>319.031348</td>\n",
              "    </tr>\n",
              "    <tr>\n",
              "      <th>14</th>\n",
              "      <td>43.853743</td>\n",
              "      <td>64.473639</td>\n",
              "      <td>287.428144</td>\n",
              "    </tr>\n",
              "    <tr>\n",
              "      <th>15</th>\n",
              "      <td>25.313694</td>\n",
              "      <td>83.545294</td>\n",
              "      <td>292.768909</td>\n",
              "    </tr>\n",
              "    <tr>\n",
              "      <th>16</th>\n",
              "      <td>10.807727</td>\n",
              "      <td>45.695569</td>\n",
              "      <td>159.663308</td>\n",
              "    </tr>\n",
              "    <tr>\n",
              "      <th>17</th>\n",
              "      <td>98.365746</td>\n",
              "      <td>82.697394</td>\n",
              "      <td>438.798964</td>\n",
              "    </tr>\n",
              "    <tr>\n",
              "      <th>18</th>\n",
              "      <td>29.146910</td>\n",
              "      <td>66.365107</td>\n",
              "      <td>250.986309</td>\n",
              "    </tr>\n",
              "    <tr>\n",
              "      <th>19</th>\n",
              "      <td>65.100302</td>\n",
              "      <td>33.353883</td>\n",
              "      <td>231.711508</td>\n",
              "    </tr>\n",
              "  </tbody>\n",
              "</table>\n",
              "</div>"
            ],
            "text/plain": [
              "            0          1           2\n",
              "0   17.930201  94.520592  320.259530\n",
              "1   97.144697  69.593282  404.634472\n",
              "2   81.775901   5.737648  181.485108\n",
              "3   55.854342  70.325902  321.773638\n",
              "4   49.366550  75.114040  322.465486\n",
              "5    3.192702  29.256299   94.618811\n",
              "6   49.200784  86.144439  356.348093\n",
              "7   21.882804  46.841505  181.653769\n",
              "8   79.509863  87.397356  423.557743\n",
              "9   88.153887  65.205642  369.229245\n",
              "10  60.743854  99.957634  427.605804\n",
              "11  67.415582  50.368310  292.471822\n",
              "12  48.318116  99.128953  395.529811\n",
              "13  28.829972  87.184949  319.031348\n",
              "14  43.853743  64.473639  287.428144\n",
              "15  25.313694  83.545294  292.768909\n",
              "16  10.807727  45.695569  159.663308\n",
              "17  98.365746  82.697394  438.798964\n",
              "18  29.146910  66.365107  250.986309\n",
              "19  65.100302  33.353883  231.711508"
            ]
          },
          "metadata": {
            "tags": []
          },
          "execution_count": 4
        }
      ]
    }
  ]
}