{
  "nbformat": 4,
  "nbformat_minor": 0,
  "metadata": {
    "colab": {
      "name": "Generating_matrices.ipynb",
      "provenance": [],
      "include_colab_link": true
    },
    "kernelspec": {
      "name": "python3",
      "display_name": "Python 3"
    }
  },
  "cells": [
    {
      "cell_type": "markdown",
      "metadata": {
        "id": "view-in-github",
        "colab_type": "text"
      },
      "source": [
        "<a href=\"https://colab.research.google.com/github/Akif-Mufti/Deep-learning-2.0/blob/master/Generating_matrices.ipynb\" target=\"_parent\"><img src=\"https://colab.research.google.com/assets/colab-badge.svg\" alt=\"Open In Colab\"/></a>"
      ]
    },
    {
      "cell_type": "code",
      "metadata": {
        "id": "_t9u6LonOANa",
        "colab_type": "code",
        "colab": {}
      },
      "source": [
        "import numpy as np\n",
        "\n",
        "#generating an array of all zeroes\n",
        "\n",
        "Z = np.zeros(10)"
      ],
      "execution_count": 0,
      "outputs": []
    },
    {
      "cell_type": "code",
      "metadata": {
        "id": "xoYp4BoJOWIS",
        "colab_type": "code",
        "colab": {
          "base_uri": "https://localhost:8080/",
          "height": 34
        },
        "outputId": "c621bee1-2268-44d4-9212-39243722f85f"
      },
      "source": [
        "Z"
      ],
      "execution_count": 2,
      "outputs": [
        {
          "output_type": "execute_result",
          "data": {
            "text/plain": [
              "array([0., 0., 0., 0., 0., 0., 0., 0., 0., 0.])"
            ]
          },
          "metadata": {
            "tags": []
          },
          "execution_count": 2
        }
      ]
    },
    {
      "cell_type": "code",
      "metadata": {
        "id": "eeUtm0E_OdBf",
        "colab_type": "code",
        "colab": {
          "base_uri": "https://localhost:8080/",
          "height": 187
        },
        "outputId": "395a6faf-e888-419d-bbfb-e99a2f776f08"
      },
      "source": [
        "#matrix 10 x10 of all zeros\n",
        "\n",
        "z1 = np.zeros([10,10])\n",
        "\n",
        "z1"
      ],
      "execution_count": 3,
      "outputs": [
        {
          "output_type": "execute_result",
          "data": {
            "text/plain": [
              "array([[0., 0., 0., 0., 0., 0., 0., 0., 0., 0.],\n",
              "       [0., 0., 0., 0., 0., 0., 0., 0., 0., 0.],\n",
              "       [0., 0., 0., 0., 0., 0., 0., 0., 0., 0.],\n",
              "       [0., 0., 0., 0., 0., 0., 0., 0., 0., 0.],\n",
              "       [0., 0., 0., 0., 0., 0., 0., 0., 0., 0.],\n",
              "       [0., 0., 0., 0., 0., 0., 0., 0., 0., 0.],\n",
              "       [0., 0., 0., 0., 0., 0., 0., 0., 0., 0.],\n",
              "       [0., 0., 0., 0., 0., 0., 0., 0., 0., 0.],\n",
              "       [0., 0., 0., 0., 0., 0., 0., 0., 0., 0.],\n",
              "       [0., 0., 0., 0., 0., 0., 0., 0., 0., 0.]])"
            ]
          },
          "metadata": {
            "tags": []
          },
          "execution_count": 3
        }
      ]
    },
    {
      "cell_type": "code",
      "metadata": {
        "id": "_85CNsDkOmf-",
        "colab_type": "code",
        "colab": {}
      },
      "source": [
        ""
      ],
      "execution_count": 0,
      "outputs": []
    },
    {
      "cell_type": "code",
      "metadata": {
        "id": "HBlenge1Ot0i",
        "colab_type": "code",
        "colab": {
          "base_uri": "https://localhost:8080/",
          "height": 187
        },
        "outputId": "c97b3989-7464-4aa9-d6fd-daa1528e09ca"
      },
      "source": [
        "#matrix of all ones\n",
        "\n",
        "ones = np.ones([10,10])\n",
        "ones"
      ],
      "execution_count": 4,
      "outputs": [
        {
          "output_type": "execute_result",
          "data": {
            "text/plain": [
              "array([[1., 1., 1., 1., 1., 1., 1., 1., 1., 1.],\n",
              "       [1., 1., 1., 1., 1., 1., 1., 1., 1., 1.],\n",
              "       [1., 1., 1., 1., 1., 1., 1., 1., 1., 1.],\n",
              "       [1., 1., 1., 1., 1., 1., 1., 1., 1., 1.],\n",
              "       [1., 1., 1., 1., 1., 1., 1., 1., 1., 1.],\n",
              "       [1., 1., 1., 1., 1., 1., 1., 1., 1., 1.],\n",
              "       [1., 1., 1., 1., 1., 1., 1., 1., 1., 1.],\n",
              "       [1., 1., 1., 1., 1., 1., 1., 1., 1., 1.],\n",
              "       [1., 1., 1., 1., 1., 1., 1., 1., 1., 1.],\n",
              "       [1., 1., 1., 1., 1., 1., 1., 1., 1., 1.]])"
            ]
          },
          "metadata": {
            "tags": []
          },
          "execution_count": 4
        }
      ]
    },
    {
      "cell_type": "code",
      "metadata": {
        "id": "rpInu0-MO2Er",
        "colab_type": "code",
        "colab": {
          "base_uri": "https://localhost:8080/",
          "height": 357
        },
        "outputId": "b4560e41-5d43-496f-b95e-bb5d328d65b8"
      },
      "source": [
        "#matrix with random elements\n",
        "\n",
        "#this generates numbers that are unformly distributed between 0 and 1\n",
        "\n",
        "r1 = np.random.random([10,10])\n",
        "\n",
        "r1"
      ],
      "execution_count": 5,
      "outputs": [
        {
          "output_type": "execute_result",
          "data": {
            "text/plain": [
              "array([[0.58194998, 0.38901145, 0.73929221, 0.73969539, 0.58103707,\n",
              "        0.61037815, 0.75846529, 0.08607707, 0.52989668, 0.10287211],\n",
              "       [0.21533689, 0.39125667, 0.13091558, 0.52961547, 0.60804334,\n",
              "        0.60741147, 0.42399156, 0.41476947, 0.53358742, 0.82509223],\n",
              "       [0.16968183, 0.7037266 , 0.41553016, 0.35608311, 0.4302996 ,\n",
              "        0.13381628, 0.39404302, 0.94321446, 0.13528288, 0.10215604],\n",
              "       [0.22356079, 0.09449343, 0.82717858, 0.95954459, 0.44979293,\n",
              "        0.83478841, 0.75088752, 0.15743726, 0.24677101, 0.01307216],\n",
              "       [0.35746058, 0.3625488 , 0.68317717, 0.69138858, 0.78508587,\n",
              "        0.76484213, 0.97661346, 0.76760649, 0.10011108, 0.22825655],\n",
              "       [0.13730786, 0.14845292, 0.24551558, 0.83310013, 0.34748034,\n",
              "        0.69507437, 0.67665067, 0.88432289, 0.47990082, 0.16888544],\n",
              "       [0.63038589, 0.79315903, 0.22100188, 0.57619313, 0.91944692,\n",
              "        0.24570373, 0.56079276, 0.72389866, 0.18528003, 0.18786261],\n",
              "       [0.44124811, 0.93096146, 0.104694  , 0.11650078, 0.72251137,\n",
              "        0.01132652, 0.3946317 , 0.31611112, 0.42987773, 0.45916937],\n",
              "       [0.79849229, 0.03302248, 0.43028558, 0.45574812, 0.68989583,\n",
              "        0.17006144, 0.46972552, 0.20834006, 0.99263837, 0.07560048],\n",
              "       [0.27964613, 0.787933  , 0.64874944, 0.04594169, 0.4669311 ,\n",
              "        0.13648215, 0.35510664, 0.25524889, 0.24560432, 0.70930783]])"
            ]
          },
          "metadata": {
            "tags": []
          },
          "execution_count": 5
        }
      ]
    },
    {
      "cell_type": "code",
      "metadata": {
        "id": "hfNQS2r3PY-p",
        "colab_type": "code",
        "colab": {}
      },
      "source": [
        "#matrix that generated numbers with gausian distribution\n",
        "\n",
        "r1 = np.random.randn([10,10]) #this is an incorrect way"
      ],
      "execution_count": 0,
      "outputs": []
    },
    {
      "cell_type": "code",
      "metadata": {
        "id": "uxLxDsVjPHQM",
        "colab_type": "code",
        "colab": {}
      },
      "source": [
        "#the following is a correct way\n",
        "\n",
        "r1 = np.random.randn(10,10)"
      ],
      "execution_count": 0,
      "outputs": []
    },
    {
      "cell_type": "code",
      "metadata": {
        "id": "sFgWT86tP6_O",
        "colab_type": "code",
        "colab": {
          "base_uri": "https://localhost:8080/",
          "height": 357
        },
        "outputId": "986e80f6-da92-489b-dfb2-b151bd651795"
      },
      "source": [
        "r1"
      ],
      "execution_count": 9,
      "outputs": [
        {
          "output_type": "execute_result",
          "data": {
            "text/plain": [
              "array([[-0.25266241, -1.79789587,  0.38328641,  1.12035708, -0.58734192,\n",
              "         0.0793593 ,  0.27298555,  0.84565153,  0.01044537,  0.38815465],\n",
              "       [ 0.94420778, -1.01648447, -1.12804449,  0.02296502, -1.54059693,\n",
              "         0.68847217,  0.18105021,  2.34218552, -0.96990701, -0.61482739],\n",
              "       [-1.13459953, -1.25983843, -0.65742753, -0.60227889, -0.57272647,\n",
              "         0.73719739, -1.38218128, -0.57948994, -0.44217538, -0.73397983],\n",
              "       [-0.13557493,  0.64364155, -1.71386412,  0.30225125, -0.22543928,\n",
              "         0.55147989, -0.52615116,  0.73859385, -1.1623774 , -0.02817698],\n",
              "       [ 0.56578138,  1.88367078,  1.00278398,  1.61537649, -0.59470135,\n",
              "         0.45174816,  0.05820017,  0.89206433, -0.81943888, -0.28162351],\n",
              "       [ 0.34343218, -1.17002374,  0.73834746,  2.31156404,  1.14793342,\n",
              "        -0.46242334, -0.99207173, -0.33745227,  0.42923185, -1.2939076 ],\n",
              "       [ 0.39868096, -0.90645098, -0.15687619, -0.11780622, -0.31709056,\n",
              "         1.92930425,  0.34093457,  0.76511922,  0.9616681 , -0.06876033],\n",
              "       [-1.38346395, -0.09140818, -0.06662645, -0.35800224,  2.60879625,\n",
              "        -0.39905105, -0.0330174 , -0.61297142,  0.00453165, -0.32985554],\n",
              "       [ 1.80982679, -0.20954395,  0.26173558,  0.25858141,  0.34627717,\n",
              "         1.29786444,  0.64852133, -0.07707066,  0.68778258, -0.85614575],\n",
              "       [ 1.88931326, -0.13814905,  0.21423   ,  1.74534495,  1.08075015,\n",
              "        -0.52098514,  0.3195783 ,  0.25999355, -0.89917504, -0.07970457]])"
            ]
          },
          "metadata": {
            "tags": []
          },
          "execution_count": 9
        }
      ]
    },
    {
      "cell_type": "code",
      "metadata": {
        "id": "XICc_6qOQDvT",
        "colab_type": "code",
        "colab": {
          "base_uri": "https://localhost:8080/",
          "height": 34
        },
        "outputId": "253a593e-0669-49a0-ccd0-510aef110ec8"
      },
      "source": [
        "#for calculating the mean\n",
        "\n",
        "r1.mean()"
      ],
      "execution_count": 10,
      "outputs": [
        {
          "output_type": "execute_result",
          "data": {
            "text/plain": [
              "0.0688341453643165"
            ]
          },
          "metadata": {
            "tags": []
          },
          "execution_count": 10
        }
      ]
    },
    {
      "cell_type": "code",
      "metadata": {
        "id": "z-jSIarBQI56",
        "colab_type": "code",
        "colab": {
          "base_uri": "https://localhost:8080/",
          "height": 34
        },
        "outputId": "f448dc81-8c2f-4958-a8d5-e016a789b323"
      },
      "source": [
        "#for calculating the variance\n",
        "\n",
        "r1.var()"
      ],
      "execution_count": 11,
      "outputs": [
        {
          "output_type": "execute_result",
          "data": {
            "text/plain": [
              "0.8534040989029846"
            ]
          },
          "metadata": {
            "tags": []
          },
          "execution_count": 11
        }
      ]
    }
  ]
}