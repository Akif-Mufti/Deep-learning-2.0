{
  "nbformat": 4,
  "nbformat_minor": 0,
  "metadata": {
    "colab": {
      "name": "advanced_commands.ipynb",
      "provenance": [],
      "include_colab_link": true
    },
    "kernelspec": {
      "name": "python3",
      "display_name": "Python 3"
    },
    "accelerator": "GPU"
  },
  "cells": [
    {
      "cell_type": "markdown",
      "metadata": {
        "id": "view-in-github",
        "colab_type": "text"
      },
      "source": [
        "<a href=\"https://colab.research.google.com/github/Akif-Mufti/Deep-learning-2.0/blob/master/advanced_commands.ipynb\" target=\"_parent\"><img src=\"https://colab.research.google.com/assets/colab-badge.svg\" alt=\"Open In Colab\"/></a>"
      ]
    },
    {
      "cell_type": "code",
      "metadata": {
        "id": "epKLGNY5temc",
        "colab_type": "code",
        "colab": {}
      },
      "source": [
        "!pwd"
      ],
      "execution_count": 0,
      "outputs": []
    },
    {
      "cell_type": "code",
      "metadata": {
        "id": "_B4diecxvc0H",
        "colab_type": "code",
        "colab": {}
      },
      "source": [
        "!pwd"
      ],
      "execution_count": 0,
      "outputs": []
    },
    {
      "cell_type": "code",
      "metadata": {
        "id": "7MGUZn4Jtxhs",
        "colab_type": "code",
        "colab": {}
      },
      "source": [
        "cd .."
      ],
      "execution_count": 0,
      "outputs": []
    },
    {
      "cell_type": "code",
      "metadata": {
        "id": "XUJrs9Qgt_qX",
        "colab_type": "code",
        "colab": {}
      },
      "source": [
        "!ls"
      ],
      "execution_count": 0,
      "outputs": []
    },
    {
      "cell_type": "code",
      "metadata": {
        "id": "Dpw3vEbRut6J",
        "colab_type": "code",
        "colab": {}
      },
      "source": [
        "!git clone https://github.com/anujshah1003/own_data_cnn_implementation_keras.git"
      ],
      "execution_count": 0,
      "outputs": []
    },
    {
      "cell_type": "code",
      "metadata": {
        "id": "O7XOvq2lwDem",
        "colab_type": "code",
        "outputId": "c9585c85-c9ca-4f3a-bbf8-4620f86dfc2d",
        "colab": {
          "base_uri": "https://localhost:8080/",
          "height": 84
        }
      },
      "source": [
        "!git clone https://github.com/anujshah1003/own_data_cnn_implementation_keras.git"
      ],
      "execution_count": 0,
      "outputs": [
        {
          "output_type": "stream",
          "text": [
            "Cloning into 'own_data_cnn_implementation_keras'...\n",
            "remote: Enumerating objects: 51, done.\u001b[K\n",
            "remote: Total 51 (delta 0), reused 0 (delta 0), pack-reused 51\u001b[K\n",
            "Unpacking objects: 100% (51/51), done.\n"
          ],
          "name": "stdout"
        }
      ]
    },
    {
      "cell_type": "code",
      "metadata": {
        "id": "Qx-HCI04wmSV",
        "colab_type": "code",
        "colab": {}
      },
      "source": [
        "cd own_data_cnn_implementation_keras/"
      ],
      "execution_count": 0,
      "outputs": []
    },
    {
      "cell_type": "code",
      "metadata": {
        "id": "hh1vE1guxFF1",
        "colab_type": "code",
        "outputId": "0da50e83-f999-469e-8aa7-1d4f116d418c",
        "colab": {
          "base_uri": "https://localhost:8080/",
          "height": 34
        }
      },
      "source": [
        "!ls"
      ],
      "execution_count": 0,
      "outputs": [
        {
          "output_type": "stream",
          "text": [
            "own_data_cnn_implementation_keras  sample_data\n"
          ],
          "name": "stdout"
        }
      ]
    },
    {
      "cell_type": "code",
      "metadata": {
        "id": "8BgVzwSYxa1n",
        "colab_type": "code",
        "colab": {}
      },
      "source": [
        "!rm -rf updated_custom_data_cnn.py custom_data_cnn.py"
      ],
      "execution_count": 0,
      "outputs": []
    },
    {
      "cell_type": "markdown",
      "metadata": {
        "id": "HypLV_zFxhLX",
        "colab_type": "text"
      },
      "source": [
        "!ls"
      ]
    },
    {
      "cell_type": "code",
      "metadata": {
        "id": "oEHvlmD3xkww",
        "colab_type": "code",
        "outputId": "ca86f885-3761-4a36-9ede-2b9e5072839b",
        "colab": {
          "base_uri": "https://localhost:8080/",
          "height": 34
        }
      },
      "source": [
        "!ls"
      ],
      "execution_count": 0,
      "outputs": [
        {
          "output_type": "stream",
          "text": [
            "_config.yml  data.zip  README.md\n"
          ],
          "name": "stdout"
        }
      ]
    },
    {
      "cell_type": "code",
      "metadata": {
        "id": "rOS4-I3s1ag4",
        "colab_type": "code",
        "outputId": "6b969936-9719-4fbd-e80a-deb2c43a2c59",
        "colab": {
          "base_uri": "https://localhost:8080/",
          "height": 50
        }
      },
      "source": [
        "from zipfile import ZipFile\n",
        "file_name = \"data.zip\"\n",
        "with ZipFile(file_name, 'r') as zip:\n",
        "  print('extracting of the file now')\n",
        "  zip.extractall()\n",
        "  print('done')"
      ],
      "execution_count": 0,
      "outputs": [
        {
          "output_type": "stream",
          "text": [
            "extracting of the file now\n",
            "done\n"
          ],
          "name": "stdout"
        }
      ]
    },
    {
      "cell_type": "code",
      "metadata": {
        "id": "mHBys2yk5NFF",
        "colab_type": "code",
        "colab": {}
      },
      "source": [
        "!rm -rf data.zip"
      ],
      "execution_count": 0,
      "outputs": []
    },
    {
      "cell_type": "code",
      "metadata": {
        "id": "StrRD3cb5YxD",
        "colab_type": "code",
        "outputId": "a3e18d35-1550-4748-bd69-4db60523b8b4",
        "colab": {
          "base_uri": "https://localhost:8080/",
          "height": 34
        }
      },
      "source": [
        "cd data/"
      ],
      "execution_count": 0,
      "outputs": [
        {
          "output_type": "stream",
          "text": [
            "/content/own_data_cnn_implementation_keras/data\n"
          ],
          "name": "stdout"
        }
      ]
    },
    {
      "cell_type": "code",
      "metadata": {
        "id": "Kg8Tau465c1e",
        "colab_type": "code",
        "outputId": "5b531c64-ab99-4779-a00e-4637ccd5b577",
        "colab": {
          "base_uri": "https://localhost:8080/",
          "height": 34
        }
      },
      "source": [
        "ls"
      ],
      "execution_count": 0,
      "outputs": [
        {
          "output_type": "stream",
          "text": [
            "\u001b[0m\u001b[01;34mcats\u001b[0m/  \u001b[01;34mdogs\u001b[0m/  \u001b[01;34mhorses\u001b[0m/  \u001b[01;34mhumans\u001b[0m/\n"
          ],
          "name": "stdout"
        }
      ]
    },
    {
      "cell_type": "code",
      "metadata": {
        "id": "tWCkRfwZ5u-X",
        "colab_type": "code",
        "outputId": "e5d263b2-a4ca-47d5-b102-071beb026398",
        "colab": {
          "base_uri": "https://localhost:8080/",
          "height": 34
        }
      },
      "source": [
        "cd dogs/\n"
      ],
      "execution_count": 0,
      "outputs": [
        {
          "output_type": "stream",
          "text": [
            "/content/own_data_cnn_implementation_keras/data/dogs\n"
          ],
          "name": "stdout"
        }
      ]
    },
    {
      "cell_type": "code",
      "metadata": {
        "id": "NG1B-TIP5x8E",
        "colab_type": "code",
        "colab": {}
      },
      "source": [
        "!ls"
      ],
      "execution_count": 0,
      "outputs": []
    },
    {
      "cell_type": "code",
      "metadata": {
        "id": "W3x_Xbfayru1",
        "colab_type": "code",
        "outputId": "da0e8fb6-d0a8-4f04-a975-fc792b81c102",
        "colab": {
          "base_uri": "https://localhost:8080/",
          "height": 34
        }
      },
      "source": [
        "!pwd"
      ],
      "execution_count": 0,
      "outputs": [
        {
          "output_type": "stream",
          "text": [
            "/content\n"
          ],
          "name": "stdout"
        }
      ]
    },
    {
      "cell_type": "code",
      "metadata": {
        "id": "aYW7unkuyt5P",
        "colab_type": "code",
        "colab": {}
      },
      "source": [
        "!ls"
      ],
      "execution_count": 0,
      "outputs": []
    },
    {
      "cell_type": "code",
      "metadata": {
        "id": "v9FozBqGyzM7",
        "colab_type": "code",
        "outputId": "53b19da2-e64d-44e7-f998-5cad2493d01d",
        "colab": {
          "base_uri": "https://localhost:8080/",
          "height": 50
        }
      },
      "source": [
        "from zipfile import ZipFile\n",
        "file_name = \"data.zip\"\n",
        "with ZipFile(file_name, 'r') as zip:\n",
        "  print('extracting of the file now')\n",
        "  zip.extractall()\n",
        "  print('done')"
      ],
      "execution_count": 0,
      "outputs": [
        {
          "output_type": "stream",
          "text": [
            "extracting of the file now\n",
            "done\n"
          ],
          "name": "stdout"
        }
      ]
    },
    {
      "cell_type": "markdown",
      "metadata": {
        "id": "NK91BQ5z1Q3F",
        "colab_type": "text"
      },
      "source": [
        "extracting a zip file"
      ]
    },
    {
      "cell_type": "code",
      "metadata": {
        "id": "ehamkoty16Zz",
        "colab_type": "code",
        "colab": {}
      },
      "source": [
        "!rm -rf data.zip"
      ],
      "execution_count": 0,
      "outputs": []
    },
    {
      "cell_type": "markdown",
      "metadata": {
        "id": "mMGk-ctg1-hd",
        "colab_type": "text"
      },
      "source": [
        "Deleting a file"
      ]
    },
    {
      "cell_type": "code",
      "metadata": {
        "id": "qjXXKe4b2E35",
        "colab_type": "code",
        "colab": {}
      },
      "source": [
        "!pip install -q keras"
      ],
      "execution_count": 0,
      "outputs": []
    },
    {
      "cell_type": "markdown",
      "metadata": {
        "id": "eSzMUscd2foS",
        "colab_type": "text"
      },
      "source": [
        "Installing packages"
      ]
    },
    {
      "cell_type": "code",
      "metadata": {
        "id": "uS3b83ua4-_p",
        "colab_type": "code",
        "outputId": "4d5508ce-719d-4926-9f8e-7f2ce026752a",
        "colab": {
          "base_uri": "https://localhost:8080/",
          "height": 470
        }
      },
      "source": [
        "from tensorflow.python.client import device_lib\n",
        "device_lib.list_local_devices()"
      ],
      "execution_count": 0,
      "outputs": [
        {
          "output_type": "execute_result",
          "data": {
            "text/plain": [
              "[name: \"/device:CPU:0\"\n",
              " device_type: \"CPU\"\n",
              " memory_limit: 268435456\n",
              " locality {\n",
              " }\n",
              " incarnation: 10403579212799240071, name: \"/device:XLA_CPU:0\"\n",
              " device_type: \"XLA_CPU\"\n",
              " memory_limit: 17179869184\n",
              " locality {\n",
              " }\n",
              " incarnation: 9046872022595915849\n",
              " physical_device_desc: \"device: XLA_CPU device\", name: \"/device:XLA_GPU:0\"\n",
              " device_type: \"XLA_GPU\"\n",
              " memory_limit: 17179869184\n",
              " locality {\n",
              " }\n",
              " incarnation: 1631088228560716614\n",
              " physical_device_desc: \"device: XLA_GPU device\", name: \"/device:GPU:0\"\n",
              " device_type: \"GPU\"\n",
              " memory_limit: 11330115994\n",
              " locality {\n",
              "   bus_id: 1\n",
              "   links {\n",
              "   }\n",
              " }\n",
              " incarnation: 10200229951238986697\n",
              " physical_device_desc: \"device: 0, name: Tesla K80, pci bus id: 0000:00:04.0, compute capability: 3.7\"]"
            ]
          },
          "metadata": {
            "tags": []
          },
          "execution_count": 2
        }
      ]
    },
    {
      "cell_type": "markdown",
      "metadata": {
        "id": "T3_cO4ut5Aq8",
        "colab_type": "text"
      },
      "source": [
        "Finding information related to your GPU, provided you have set the runtime type to GPU"
      ]
    },
    {
      "cell_type": "code",
      "metadata": {
        "id": "Vr1r8Dn15vWJ",
        "colab_type": "code",
        "outputId": "9ae41642-8a5f-4c25-de6d-468232eb4f18",
        "colab": {
          "base_uri": "https://localhost:8080/",
          "height": 944
        }
      },
      "source": [
        "!cat /proc/cpuinfo"
      ],
      "execution_count": 0,
      "outputs": [
        {
          "output_type": "stream",
          "text": [
            "processor\t: 0\n",
            "vendor_id\t: GenuineIntel\n",
            "cpu family\t: 6\n",
            "model\t\t: 63\n",
            "model name\t: Intel(R) Xeon(R) CPU @ 2.30GHz\n",
            "stepping\t: 0\n",
            "microcode\t: 0x1\n",
            "cpu MHz\t\t: 2300.000\n",
            "cache size\t: 46080 KB\n",
            "physical id\t: 0\n",
            "siblings\t: 2\n",
            "core id\t\t: 0\n",
            "cpu cores\t: 1\n",
            "apicid\t\t: 0\n",
            "initial apicid\t: 0\n",
            "fpu\t\t: yes\n",
            "fpu_exception\t: yes\n",
            "cpuid level\t: 13\n",
            "wp\t\t: yes\n",
            "flags\t\t: fpu vme de pse tsc msr pae mce cx8 apic sep mtrr pge mca cmov pat pse36 clflush mmx fxsr sse sse2 ss ht syscall nx pdpe1gb rdtscp lm constant_tsc rep_good nopl xtopology nonstop_tsc cpuid tsc_known_freq pni pclmulqdq ssse3 fma cx16 pcid sse4_1 sse4_2 x2apic movbe popcnt aes xsave avx f16c rdrand hypervisor lahf_lm abm invpcid_single ssbd ibrs ibpb stibp fsgsbase tsc_adjust bmi1 avx2 smep bmi2 erms invpcid xsaveopt arat md_clear arch_capabilities\n",
            "bugs\t\t: cpu_meltdown spectre_v1 spectre_v2 spec_store_bypass l1tf mds swapgs\n",
            "bogomips\t: 4600.00\n",
            "clflush size\t: 64\n",
            "cache_alignment\t: 64\n",
            "address sizes\t: 46 bits physical, 48 bits virtual\n",
            "power management:\n",
            "\n",
            "processor\t: 1\n",
            "vendor_id\t: GenuineIntel\n",
            "cpu family\t: 6\n",
            "model\t\t: 63\n",
            "model name\t: Intel(R) Xeon(R) CPU @ 2.30GHz\n",
            "stepping\t: 0\n",
            "microcode\t: 0x1\n",
            "cpu MHz\t\t: 2300.000\n",
            "cache size\t: 46080 KB\n",
            "physical id\t: 0\n",
            "siblings\t: 2\n",
            "core id\t\t: 0\n",
            "cpu cores\t: 1\n",
            "apicid\t\t: 1\n",
            "initial apicid\t: 1\n",
            "fpu\t\t: yes\n",
            "fpu_exception\t: yes\n",
            "cpuid level\t: 13\n",
            "wp\t\t: yes\n",
            "flags\t\t: fpu vme de pse tsc msr pae mce cx8 apic sep mtrr pge mca cmov pat pse36 clflush mmx fxsr sse sse2 ss ht syscall nx pdpe1gb rdtscp lm constant_tsc rep_good nopl xtopology nonstop_tsc cpuid tsc_known_freq pni pclmulqdq ssse3 fma cx16 pcid sse4_1 sse4_2 x2apic movbe popcnt aes xsave avx f16c rdrand hypervisor lahf_lm abm invpcid_single ssbd ibrs ibpb stibp fsgsbase tsc_adjust bmi1 avx2 smep bmi2 erms invpcid xsaveopt arat md_clear arch_capabilities\n",
            "bugs\t\t: cpu_meltdown spectre_v1 spectre_v2 spec_store_bypass l1tf mds swapgs\n",
            "bogomips\t: 4600.00\n",
            "clflush size\t: 64\n",
            "cache_alignment\t: 64\n",
            "address sizes\t: 46 bits physical, 48 bits virtual\n",
            "power management:\n",
            "\n"
          ],
          "name": "stdout"
        }
      ]
    },
    {
      "cell_type": "markdown",
      "metadata": {
        "id": "__fzGlfD56jt",
        "colab_type": "text"
      },
      "source": [
        "Finding information related to your CPU"
      ]
    },
    {
      "cell_type": "code",
      "metadata": {
        "id": "d6m56qfC68e6",
        "colab_type": "code",
        "outputId": "d6b79273-010c-4d07-e2f2-ee109ed8e71f",
        "colab": {
          "base_uri": "https://localhost:8080/",
          "height": 773
        }
      },
      "source": [
        "!cat /proc/meminfo"
      ],
      "execution_count": 0,
      "outputs": [
        {
          "output_type": "stream",
          "text": [
            "MemTotal:       13335192 kB\n",
            "MemFree:        10252688 kB\n",
            "MemAvailable:   12288564 kB\n",
            "Buffers:           74064 kB\n",
            "Cached:          2103020 kB\n",
            "SwapCached:            0 kB\n",
            "Active:           844672 kB\n",
            "Inactive:        1882604 kB\n",
            "Active(anon):     515028 kB\n",
            "Inactive(anon):     2368 kB\n",
            "Active(file):     329644 kB\n",
            "Inactive(file):  1880236 kB\n",
            "Unevictable:           0 kB\n",
            "Mlocked:               0 kB\n",
            "SwapTotal:             0 kB\n",
            "SwapFree:              0 kB\n",
            "Dirty:               260 kB\n",
            "Writeback:             0 kB\n",
            "AnonPages:        550224 kB\n",
            "Mapped:           424508 kB\n",
            "Shmem:              2940 kB\n",
            "Slab:             172760 kB\n",
            "SReclaimable:     133880 kB\n",
            "SUnreclaim:        38880 kB\n",
            "KernelStack:        3708 kB\n",
            "PageTables:         7020 kB\n",
            "NFS_Unstable:          0 kB\n",
            "Bounce:                0 kB\n",
            "WritebackTmp:          0 kB\n",
            "CommitLimit:     6667596 kB\n",
            "Committed_AS:    3053992 kB\n",
            "VmallocTotal:   34359738367 kB\n",
            "VmallocUsed:           0 kB\n",
            "VmallocChunk:          0 kB\n",
            "AnonHugePages:         0 kB\n",
            "ShmemHugePages:        0 kB\n",
            "ShmemPmdMapped:        0 kB\n",
            "HugePages_Total:       0\n",
            "HugePages_Free:        0\n",
            "HugePages_Rsvd:        0\n",
            "HugePages_Surp:        0\n",
            "Hugepagesize:       2048 kB\n",
            "DirectMap4k:      149492 kB\n",
            "DirectMap2M:     5093376 kB\n",
            "DirectMap1G:    10485760 kB\n"
          ],
          "name": "stdout"
        }
      ]
    },
    {
      "cell_type": "markdown",
      "metadata": {
        "id": "1V5t3sSQ694n",
        "colab_type": "text"
      },
      "source": [
        "This command provide information related to the memeory allocated to the current ipython"
      ]
    },
    {
      "cell_type": "code",
      "metadata": {
        "id": "RpU6uPBO7oSL",
        "colab_type": "code",
        "colab": {}
      },
      "source": [
        "\n",
        "import tensorflow as tf \n",
        "tf.nn.sigmoid_cross_entropy_with_logits?"
      ],
      "execution_count": 0,
      "outputs": []
    },
    {
      "cell_type": "markdown",
      "metadata": {
        "id": "613L0exH7prj",
        "colab_type": "text"
      },
      "source": [
        "Information related to the argument of a function, no need to look into website - question mark in the end"
      ]
    }
  ]
}