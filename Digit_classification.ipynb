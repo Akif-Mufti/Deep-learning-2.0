{
  "nbformat": 4,
  "nbformat_minor": 0,
  "metadata": {
    "colab": {
      "name": "Digit_classification.ipynb",
      "provenance": [],
      "include_colab_link": true
    },
    "kernelspec": {
      "name": "python3",
      "display_name": "Python 3"
    }
  },
  "cells": [
    {
      "cell_type": "markdown",
      "metadata": {
        "id": "view-in-github",
        "colab_type": "text"
      },
      "source": [
        "<a href=\"https://colab.research.google.com/github/Akif-Mufti/Deep-learning-2.0/blob/master/Digit_classification.ipynb\" target=\"_parent\"><img src=\"https://colab.research.google.com/assets/colab-badge.svg\" alt=\"Open In Colab\"/></a>"
      ]
    },
    {
      "cell_type": "code",
      "metadata": {
        "id": "95fP9-yPIfeF",
        "colab_type": "code",
        "colab": {
          "base_uri": "https://localhost:8080/",
          "height": 1000
        },
        "outputId": "c92138d6-4c5f-42c6-fa57-09016224cdfb"
      },
      "source": [
        "#import dependencies\n",
        "\n",
        "import cv2\n",
        "import matplotlib.pyplot as plt\n",
        "import numpy as np\n",
        "import tensorflow as tf\n",
        "\n",
        "# Import MNIST data\n",
        "from tensorflow.examples.tutorials.mnist import input_data\n",
        "mnist_data = input_data.read_data_sets(\"./data\", one_hot=True)\n",
        "\n",
        "num_training = mnist_data.train.num_examples\n",
        "num_testing = mnist_data.test.num_examples\n",
        "num_validation = mnist_data.validation.num_examples\n",
        "\n",
        "print(\"MNIST Datasize : Training Samples {0}, Testing Samples {1}, Validation Samples\".format(num_training,num_testing,num_validation))\n",
        "\n",
        "#defining the neural network \n",
        "\n",
        "n_input = 784 #image of size 28 X28\n",
        "n_hidden_1 = 512 #first hidden layer\n",
        "n_hidden_2 = 256 #second hidden layer\n",
        "n_hidden_3 = 128 #third hidden layer\n",
        "n_output = 10  #output layer, as we need to classify the digits from (0 to 9)\n",
        "\n",
        "#hyper parameters (remain constant throughout the process\n",
        "\n",
        "learning_rate = 1e-4 #how the parameters will be adjusted at each step of the learning process\n",
        "epochs = 3000 #how many times we go through the training process\n",
        "batch_size = 128 #how many training examples we are using at each step \n",
        "keep_prop = tf.placeholder(tf.float32)\n",
        "\n",
        "#building tensorflow graph\n",
        "\n",
        "X = tf.placeholder(tf.float32, [None, n_input]) #[none, 784] [any number of training sets ]\n",
        "Y = tf.placeholder(tf.float32, [None, n_output]) #[none, 10 ]\n",
        "\n",
        "#defining the weights and biases\n",
        "\n",
        "nn_weight = {\"W1\": tf.Variable(tf.truncated_normal([n_input,n_hidden_1],stddev=0.1)),\n",
        "             \"W2\": tf.Variable(tf.truncated_normal([n_hidden_1,n_hidden_2],stddev=0.1)),\n",
        "             \"W3\": tf.Variable(tf.truncated_normal([n_hidden_2,n_hidden_3],stddev=0.1)),\n",
        "             \"Wout\": tf.Variable(tf.truncated_normal([n_hidden_3,n_output],stddev=0.1))\n",
        "            }\n",
        "nn_bias = {\n",
        "           \"B1\": tf.Variable(tf.truncated_normal([n_hidden_1])),\n",
        "           \"B2\": tf.Variable(tf.truncated_normal([n_hidden_2])),\n",
        "           \"B3\": tf.Variable(tf.truncated_normal([n_hidden_3])),\n",
        "           \"B4\": tf.Variable(tf.truncated_normal([n_output]))\n",
        "            }\n",
        "                       \n",
        "#creating a neural network model\n",
        "nn_layer1 = tf.add(tf.matmul(X, nn_weight[\"W1\"]),nn_bias[\"B1\"])\n",
        "nn_layer2 = tf.add(tf.matmul(nn_layer1, nn_weight[\"W2\"]),nn_bias[\"B2\"])\n",
        "nn_layer3 = tf.add(tf.matmul(nn_layer2, nn_weight[\"W3\"]),nn_bias[\"B3\"])\n",
        "layer_drop = tf.nn.dropout(nn_layer3, keep_prop)\n",
        "output_layer = tf.add(tf.matmul(layer_drop, nn_weight[\"Wout\"]),nn_bias[\"B4\"])\n",
        "\n",
        "#define the loss\n",
        "computed_loss = tf.reduce_mean(tf.nn.softmax_cross_entropy_with_logits_v2(logits = output_layer, labels= Y))\n",
        "\n",
        "#defining the optimizer \n",
        "\n",
        "optimizer = tf.train.GradientDescentOptimizer(learning_rate=learning_rate).minimize(computed_loss)\n",
        "\n",
        "#defining the prediction\n",
        "prediction_out = tf.equal(tf.arg_max(output_layer,1),tf.argmax(Y,1))\n",
        "\n",
        "#define accuracy of the model\n",
        "nn_accuracy = tf.reduce_mean(tf.cast(prediction_out,tf.float32))\n",
        "\n",
        "#initialize all the variables\n",
        "init = tf.global_variables_initializer()\n",
        "\n",
        "saver = tf.train.Saver()\n",
        "\n",
        "#executing the computational graph\n",
        "\n",
        "with tf.Session() as sess:\n",
        "  sess.run(init)\n",
        "  for i in range(epochs):\n",
        "    mini_batch_x, mini_batch_y = mnist_data.train.next_batch(batch_size)\n",
        "    #print(mini_batch_x[0:1,:].shape)\n",
        "    mini_batch_val_x, mini_batch_val_y = mnist_data.validation.next_batch(batch_size)\n",
        "    sess.run(optimizer, feed_dict = {X : mini_batch_x, Y : mini_batch_y, keep_prop:0.6})\n",
        "\n",
        "    if i%100 == 0:\n",
        "      mini_batch_loss, mini_batch_accuracy = sess.run([computed_loss, nn_accuracy], feed_dict = {X : mini_batch_x, Y : mini_batch_y, keep_prop:1})\n",
        "      mini_batch_val_loss, mini_batch_val_accuracy = sess.run([computed_loss, nn_accuracy], feed_dict = {X : mini_batch_val_x, Y : mini_batch_val_y, keep_prop:0.6})\n",
        "\n",
        "      print(\"Iteration : {0}, Train_loss = {1}, Train_accuracy = {2}, val_loss = {3}, val_accuracy = {4}\".format(i,mini_batch_loss,mini_batch_accuracy,mini_batch_val_loss, mini_batch_val_accuracy))\n",
        "  print(\"optimization finished\")  \n",
        "  test_accuracy = sess.run(nn_accuracy, feed_dict = {X:mnist_data.test.images, Y:mnist_data.test.labels, keep_prop :1.0}) \n",
        "  print(\"Testing accuracy is {0}\".format(test_accuracy)) \n",
        "  saver_path = saver.save(sess,\"./model/my_model.ckpt\")\n",
        "\n",
        "\n",
        "\n",
        "\n",
        "\n",
        "\n"
      ],
      "execution_count": 1,
      "outputs": [
        {
          "output_type": "display_data",
          "data": {
            "text/html": [
              "<p style=\"color: red;\">\n",
              "The default version of TensorFlow in Colab will soon switch to TensorFlow 2.x.<br>\n",
              "We recommend you <a href=\"https://www.tensorflow.org/guide/migrate\" target=\"_blank\">upgrade</a> now \n",
              "or ensure your notebook will continue to use TensorFlow 1.x via the <code>%tensorflow_version 1.x</code> magic:\n",
              "<a href=\"https://colab.research.google.com/notebooks/tensorflow_version.ipynb\" target=\"_blank\">more info</a>.</p>\n"
            ],
            "text/plain": [
              "<IPython.core.display.HTML object>"
            ]
          },
          "metadata": {
            "tags": []
          }
        },
        {
          "output_type": "stream",
          "text": [
            "WARNING:tensorflow:From <ipython-input-1-631f19660779>:9: read_data_sets (from tensorflow.contrib.learn.python.learn.datasets.mnist) is deprecated and will be removed in a future version.\n",
            "Instructions for updating:\n",
            "Please use alternatives such as official/mnist/dataset.py from tensorflow/models.\n",
            "WARNING:tensorflow:From /usr/local/lib/python3.6/dist-packages/tensorflow_core/contrib/learn/python/learn/datasets/mnist.py:260: maybe_download (from tensorflow.contrib.learn.python.learn.datasets.base) is deprecated and will be removed in a future version.\n",
            "Instructions for updating:\n",
            "Please write your own downloading logic.\n",
            "WARNING:tensorflow:From /usr/local/lib/python3.6/dist-packages/tensorflow_core/contrib/learn/python/learn/datasets/base.py:252: _internal_retry.<locals>.wrap.<locals>.wrapped_fn (from tensorflow.contrib.learn.python.learn.datasets.base) is deprecated and will be removed in a future version.\n",
            "Instructions for updating:\n",
            "Please use urllib or similar directly.\n",
            "Successfully downloaded train-images-idx3-ubyte.gz 9912422 bytes.\n",
            "WARNING:tensorflow:From /usr/local/lib/python3.6/dist-packages/tensorflow_core/contrib/learn/python/learn/datasets/mnist.py:262: extract_images (from tensorflow.contrib.learn.python.learn.datasets.mnist) is deprecated and will be removed in a future version.\n",
            "Instructions for updating:\n",
            "Please use tf.data to implement this functionality.\n",
            "Extracting ./data/train-images-idx3-ubyte.gz\n",
            "Successfully downloaded train-labels-idx1-ubyte.gz 28881 bytes.\n",
            "WARNING:tensorflow:From /usr/local/lib/python3.6/dist-packages/tensorflow_core/contrib/learn/python/learn/datasets/mnist.py:267: extract_labels (from tensorflow.contrib.learn.python.learn.datasets.mnist) is deprecated and will be removed in a future version.\n",
            "Instructions for updating:\n",
            "Please use tf.data to implement this functionality.\n",
            "Extracting ./data/train-labels-idx1-ubyte.gz\n",
            "WARNING:tensorflow:From /usr/local/lib/python3.6/dist-packages/tensorflow_core/contrib/learn/python/learn/datasets/mnist.py:110: dense_to_one_hot (from tensorflow.contrib.learn.python.learn.datasets.mnist) is deprecated and will be removed in a future version.\n",
            "Instructions for updating:\n",
            "Please use tf.one_hot on tensors.\n",
            "Successfully downloaded t10k-images-idx3-ubyte.gz 1648877 bytes.\n",
            "Extracting ./data/t10k-images-idx3-ubyte.gz\n",
            "Successfully downloaded t10k-labels-idx1-ubyte.gz 4542 bytes.\n",
            "Extracting ./data/t10k-labels-idx1-ubyte.gz\n",
            "WARNING:tensorflow:From /usr/local/lib/python3.6/dist-packages/tensorflow_core/contrib/learn/python/learn/datasets/mnist.py:290: DataSet.__init__ (from tensorflow.contrib.learn.python.learn.datasets.mnist) is deprecated and will be removed in a future version.\n",
            "Instructions for updating:\n",
            "Please use alternatives such as official/mnist/dataset.py from tensorflow/models.\n",
            "MNIST Datasize : Training Samples 55000, Testing Samples 10000, Validation Samples\n",
            "WARNING:tensorflow:From <ipython-input-1-631f19660779>:55: calling dropout (from tensorflow.python.ops.nn_ops) with keep_prob is deprecated and will be removed in a future version.\n",
            "Instructions for updating:\n",
            "Please use `rate` instead of `keep_prob`. Rate should be set to `rate = 1 - keep_prob`.\n",
            "Iteration : 0, Train_loss = 5.453898906707764, Train_accuracy = 0.09375, val_loss = 7.787670135498047, val_accuracy = 0.0859375\n",
            "Iteration : 100, Train_loss = 3.752056121826172, Train_accuracy = 0.0546875, val_loss = 5.533434867858887, val_accuracy = 0.1171875\n",
            "Iteration : 200, Train_loss = 3.5017337799072266, Train_accuracy = 0.1171875, val_loss = 4.746816635131836, val_accuracy = 0.140625\n",
            "Iteration : 300, Train_loss = 2.7750353813171387, Train_accuracy = 0.1640625, val_loss = 4.620074272155762, val_accuracy = 0.109375\n",
            "Iteration : 400, Train_loss = 2.5806455612182617, Train_accuracy = 0.203125, val_loss = 4.544556617736816, val_accuracy = 0.171875\n",
            "Iteration : 500, Train_loss = 2.4448962211608887, Train_accuracy = 0.2734375, val_loss = 3.7913694381713867, val_accuracy = 0.1796875\n",
            "Iteration : 600, Train_loss = 1.87821364402771, Train_accuracy = 0.34375, val_loss = 3.476684331893921, val_accuracy = 0.203125\n",
            "Iteration : 700, Train_loss = 1.9455630779266357, Train_accuracy = 0.375, val_loss = 2.9019742012023926, val_accuracy = 0.2890625\n",
            "Iteration : 800, Train_loss = 1.6295015811920166, Train_accuracy = 0.4609375, val_loss = 2.981684923171997, val_accuracy = 0.2265625\n",
            "Iteration : 900, Train_loss = 1.6161264181137085, Train_accuracy = 0.46875, val_loss = 2.7072386741638184, val_accuracy = 0.28125\n",
            "Iteration : 1000, Train_loss = 1.614594578742981, Train_accuracy = 0.5, val_loss = 2.492579460144043, val_accuracy = 0.3203125\n",
            "Iteration : 1100, Train_loss = 1.2191922664642334, Train_accuracy = 0.625, val_loss = 2.5409433841705322, val_accuracy = 0.265625\n",
            "Iteration : 1200, Train_loss = 1.396857738494873, Train_accuracy = 0.515625, val_loss = 2.120086431503296, val_accuracy = 0.3359375\n",
            "Iteration : 1300, Train_loss = 1.3335767984390259, Train_accuracy = 0.5390625, val_loss = 2.0198655128479004, val_accuracy = 0.40625\n",
            "Iteration : 1400, Train_loss = 1.1626732349395752, Train_accuracy = 0.5859375, val_loss = 2.3745639324188232, val_accuracy = 0.28125\n",
            "Iteration : 1500, Train_loss = 1.1505054235458374, Train_accuracy = 0.6171875, val_loss = 2.0450172424316406, val_accuracy = 0.3828125\n",
            "Iteration : 1600, Train_loss = 1.1868573427200317, Train_accuracy = 0.625, val_loss = 1.7592825889587402, val_accuracy = 0.4375\n",
            "Iteration : 1700, Train_loss = 1.1850039958953857, Train_accuracy = 0.5625, val_loss = 1.8937727212905884, val_accuracy = 0.5078125\n",
            "Iteration : 1800, Train_loss = 1.1407549381256104, Train_accuracy = 0.578125, val_loss = 1.592618703842163, val_accuracy = 0.484375\n",
            "Iteration : 1900, Train_loss = 1.1705424785614014, Train_accuracy = 0.609375, val_loss = 1.573979139328003, val_accuracy = 0.5703125\n",
            "Iteration : 2000, Train_loss = 0.9419262409210205, Train_accuracy = 0.6484375, val_loss = 1.696358561515808, val_accuracy = 0.484375\n",
            "Iteration : 2100, Train_loss = 0.8810368776321411, Train_accuracy = 0.6796875, val_loss = 1.6078152656555176, val_accuracy = 0.5078125\n",
            "Iteration : 2200, Train_loss = 0.9439893960952759, Train_accuracy = 0.7265625, val_loss = 1.451955795288086, val_accuracy = 0.515625\n",
            "Iteration : 2300, Train_loss = 0.8294021487236023, Train_accuracy = 0.7578125, val_loss = 1.618330955505371, val_accuracy = 0.484375\n",
            "Iteration : 2400, Train_loss = 1.0770139694213867, Train_accuracy = 0.703125, val_loss = 1.2299087047576904, val_accuracy = 0.5859375\n",
            "Iteration : 2500, Train_loss = 0.8053569793701172, Train_accuracy = 0.75, val_loss = 1.2264442443847656, val_accuracy = 0.546875\n",
            "Iteration : 2600, Train_loss = 0.8524333834648132, Train_accuracy = 0.7265625, val_loss = 1.216902732849121, val_accuracy = 0.6015625\n",
            "Iteration : 2700, Train_loss = 0.8682196140289307, Train_accuracy = 0.7109375, val_loss = 1.3197879791259766, val_accuracy = 0.6015625\n",
            "Iteration : 2800, Train_loss = 0.7276073098182678, Train_accuracy = 0.78125, val_loss = 1.1616586446762085, val_accuracy = 0.6328125\n",
            "Iteration : 2900, Train_loss = 0.9120689630508423, Train_accuracy = 0.671875, val_loss = 1.1488884687423706, val_accuracy = 0.609375\n",
            "optimization finished\n",
            "Testing accuracy is 0.757099986076355\n"
          ],
          "name": "stdout"
        }
      ]
    },
    {
      "cell_type": "code",
      "metadata": {
        "id": "D-PgcaC8S8g9",
        "colab_type": "code",
        "colab": {
          "base_uri": "https://localhost:8080/",
          "height": 282
        },
        "outputId": "9a1ff73a-4f7a-4a17-a742-4830ce17509a"
      },
      "source": [
        "\n",
        "#upload the test image\n",
        "img = cv2.imread(\"7.jpg\")\n",
        "gray_image =cv2.cvtColor(img, cv2.COLOR_BGR2GRAY)\n",
        "\n",
        "rescaled_image = cv2.resize(gray_image, (28,28))\n",
        "plt.imshow(rescaled_image, cmap = 'gray')\n",
        "plt.show()\n",
        "rescaled_image.shape\n",
        "#test_image = rescaled_image.flatten()\n",
        "\n",
        "dum = rescaled_image.reshape(1,-1)/255\n",
        "dum.shape\n",
        "\n",
        "\n",
        "\n",
        "             "
      ],
      "execution_count": 7,
      "outputs": [
        {
          "output_type": "display_data",
          "data": {
            "image/png": "[encoded data removed]",
            "text/plain": [
              "<Figure size 432x288 with 1 Axes>"
            ]
          },
          "metadata": {
            "tags": []
          }
        },
        {
          "output_type": "execute_result",
          "data": {
            "text/plain": [
              "(1, 784)"
            ]
          },
          "metadata": {
            "tags": []
          },
          "execution_count": 7
        }
      ]
    },
    {
      "cell_type": "code",
      "metadata": {
        "id": "CxcdRxZWXZVl",
        "colab_type": "code",
        "colab": {
          "base_uri": "https://localhost:8080/",
          "height": 50
        },
        "outputId": "2b15fd88-f268-48a2-e05e-dad553eac0e4"
      },
      "source": [
        "with tf.Session() as sess:\n",
        "  saver.restore(sess, \"./model/my_model.ckpt\")\n",
        "  Z = output_layer.eval(feed_dict = {X :dum, keep_prop: 1.0})\n",
        "  y_pred = np.argmax(Z , axis =1)\n",
        "  print(\"prediction for test image is {0}\".format(y_pred))"
      ],
      "execution_count": 8,
      "outputs": [
        {
          "output_type": "stream",
          "text": [
            "INFO:tensorflow:Restoring parameters from ./model/my_model.ckpt\n",
            "prediction for test image is [7]\n"
          ],
          "name": "stdout"
        }
      ]
    }
  ]
}