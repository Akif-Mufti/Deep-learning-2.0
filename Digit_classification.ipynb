{
  "nbformat": 4,
  "nbformat_minor": 0,
  "metadata": {
    "colab": {
      "name": "Digit_classification.ipynb",
      "provenance": [],
      "include_colab_link": true
    },
    "kernelspec": {
      "name": "python3",
      "display_name": "Python 3"
    },
    "accelerator": "GPU"
  },
  "cells": [
    {
      "cell_type": "markdown",
      "metadata": {
        "id": "view-in-github",
        "colab_type": "text"
      },
      "source": [
        "<a href=\"https://colab.research.google.com/github/Akif-Mufti/Deep-learning-2.0/blob/master/Digit_classification.ipynb\" target=\"_parent\"><img src=\"https://colab.research.google.com/assets/colab-badge.svg\" alt=\"Open In Colab\"/></a>"
      ]
    },
    {
      "cell_type": "code",
      "metadata": {
        "id": "95fP9-yPIfeF",
        "colab_type": "code",
        "outputId": "aca4c5cd-ffd7-4d2c-9e97-5bdf15b49520",
        "colab": {
          "base_uri": "https://localhost:8080/",
          "height": 637
        }
      },
      "source": [
        "#import dependencies\n",
        "\n",
        "import cv2\n",
        "import matplotlib.pyplot as plt\n",
        "import numpy as np\n",
        "import tensorflow as tf\n",
        "\n",
        "# Import MNIST data\n",
        "from tensorflow.examples.tutorials.mnist import input_data\n",
        "mnist_data = input_data.read_data_sets(\"./data\", one_hot=True)\n",
        "\n",
        "num_training = mnist_data.train.num_examples\n",
        "num_testing = mnist_data.test.num_examples\n",
        "num_validation = mnist_data.validation.num_examples\n",
        "\n",
        "print(\"MNIST Datasize : Training Samples {0}, Testing Samples {1}, Validation Samples\".format(num_training,num_testing,num_validation))\n",
        "\n",
        "#defining the neural network \n",
        "\n",
        "n_input = 784 #image of size 28 X28\n",
        "n_hidden_1 = 512 #first hidden layer\n",
        "n_hidden_2 = 256 #second hidden layer\n",
        "n_hidden_3 = 128 #third hidden layer\n",
        "n_output = 10  #output layer, as we need to classify the digits from (0 to 9)\n",
        "\n",
        "#hyper parameters (remain constant throughout the process\n",
        "\n",
        "learning_rate = 1e-4 #how the parameters will be adjusted at each step of the learning process\n",
        "epochs = 3000 #how many times we go through the training process\n",
        "batch_size = 128 #how many training examples we are using at each step \n",
        "keep_prop = tf.placeholder(tf.float32)\n",
        "\n",
        "#building tensorflow graph\n",
        "\n",
        "X = tf.placeholder(tf.float32, [None, n_input]) #[none, 784] [any number of training sets ]\n",
        "Y = tf.placeholder(tf.float32, [None, n_output]) #[none, 10 ]\n",
        "\n",
        "#defining the weights and biases\n",
        "\n",
        "nn_weight = {\"W1\": tf.Variable(tf.truncated_normal([n_input,n_hidden_1],stddev=0.1)),\n",
        "             \"W2\": tf.Variable(tf.truncated_normal([n_hidden_1,n_hidden_2],stddev=0.1)),\n",
        "             \"W3\": tf.Variable(tf.truncated_normal([n_hidden_2,n_hidden_3],stddev=0.1)),\n",
        "             \"Wout\": tf.Variable(tf.truncated_normal([n_hidden_3,n_output],stddev=0.1))\n",
        "            }\n",
        "nn_bias = {\n",
        "           \"B1\": tf.Variable(tf.truncated_normal([n_hidden_1])),\n",
        "           \"B2\": tf.Variable(tf.truncated_normal([n_hidden_2])),\n",
        "           \"B3\": tf.Variable(tf.truncated_normal([n_hidden_3])),\n",
        "           \"B4\": tf.Variable(tf.truncated_normal([n_output]))\n",
        "            }\n",
        "\n",
        "#summary histogram for neural network weights\n",
        "\n",
        "W1_histogram = tf.summary.histogram(\"W1\", nn_weight[\"W1\"])\n",
        "W2_histogram = tf.summary.histogram(\"W2\", nn_weight[\"W2\"])\n",
        "W3_histogram = tf.summary.histogram(\"W3\", nn_weight[\"W3\"])\n",
        "W4_histogram = tf.summary.histogram(\"W4\", nn_weight[\"Wout\"])\n",
        "\n",
        "#summary histogram for neural network biases\n",
        "\n",
        "B1_histogram = tf.summary.histogram(\"B1\", nn_bias[\"B1\"])\n",
        "B2_histogram = tf.summary.histogram(\"B2\", nn_bias[\"B2\"])\n",
        "B3_histogram = tf.summary.histogram(\"B3\", nn_bias[\"B3\"])\n",
        "B4_histogram = tf.summary.histogram(\"B4\", nn_bias[\"B4\"])\n",
        "\n",
        "#addding the following line to visualise it in tensor board\n",
        "with tf.name_scope(\"Network_Model\") as scope:\n",
        "  #creating a neural network model\n",
        "  nn_layer1 = tf.add(tf.matmul(X, nn_weight[\"W1\"]),nn_bias[\"B1\"])\n",
        "  nn_layer2 = tf.add(tf.matmul(nn_layer1, nn_weight[\"W2\"]),nn_bias[\"B2\"])\n",
        "  nn_layer3 = tf.add(tf.matmul(nn_layer2, nn_weight[\"W3\"]),nn_bias[\"B3\"])\n",
        "  layer_drop = tf.nn.dropout(nn_layer3, keep_prop)\n",
        "  output_layer = tf.add(tf.matmul(layer_drop, nn_weight[\"Wout\"]),nn_bias[\"B4\"])\n",
        "\n",
        "#define the loss\n",
        "with tf.name_scope(\"Cost_function\") as scope:\n",
        "  computed_loss = tf.reduce_mean(tf.nn.softmax_cross_entropy_with_logits_v2(logits = output_layer, labels= Y))\n",
        "#summary for the cost\n",
        "network_cost = tf.summary.scalar(\"cost\", computed_loss)\n",
        "#defining the optimizer \n",
        "with tf.name_scope(\"Network_optimizer\") as scope:\n",
        "  optimizer = tf.train.GradientDescentOptimizer(learning_rate=learning_rate).minimize(computed_loss)\n",
        "\n",
        "#defining the prediction\n",
        "with tf.name_scope(\"Network_predictionl\") as scope:\n",
        "  prediction_out = tf.equal(tf.arg_max(output_layer,1),tf.argmax(Y,1))\n",
        "\n",
        "#define accuracy of the model\n",
        "with tf.name_scope(\"Network_accuracy\") as scope:\n",
        "  nn_accuracy = tf.reduce_mean(tf.cast(prediction_out,tf.float32))\n",
        "\n",
        "#initialize all the variables\n",
        "init = tf.global_variables_initializer()\n",
        "\n",
        "#merge Summaries\n",
        "merger_summary = tf.summary.merge_all()\n",
        "\n",
        "saver = tf.train.Saver()\n",
        "\n",
        "\n",
        "\n",
        "\n",
        "\n",
        "\n",
        "\n",
        "\n"
      ],
      "execution_count": 1,
      "outputs": [
        {
          "output_type": "display_data",
          "data": {
            "text/html": [
              "<p style=\"color: red;\">\n",
              "The default version of TensorFlow in Colab will soon switch to TensorFlow 2.x.<br>\n",
              "We recommend you <a href=\"https://www.tensorflow.org/guide/migrate\" target=\"_blank\">upgrade</a> now \n",
              "or ensure your notebook will continue to use TensorFlow 1.x via the <code>%tensorflow_version 1.x</code> magic:\n",
              "<a href=\"https://colab.research.google.com/notebooks/tensorflow_version.ipynb\" target=\"_blank\">more info</a>.</p>\n"
            ],
            "text/plain": [
              "<IPython.core.display.HTML object>"
            ]
          },
          "metadata": {
            "tags": []
          }
        },
        {
          "output_type": "stream",
          "text": [
            "WARNING:tensorflow:From <ipython-input-1-5b4a1c4b2d18>:9: read_data_sets (from tensorflow.contrib.learn.python.learn.datasets.mnist) is deprecated and will be removed in a future version.\n",
            "Instructions for updating:\n",
            "Please use alternatives such as official/mnist/dataset.py from tensorflow/models.\n",
            "WARNING:tensorflow:From /usr/local/lib/python3.6/dist-packages/tensorflow_core/contrib/learn/python/learn/datasets/mnist.py:260: maybe_download (from tensorflow.contrib.learn.python.learn.datasets.base) is deprecated and will be removed in a future version.\n",
            "Instructions for updating:\n",
            "Please write your own downloading logic.\n",
            "WARNING:tensorflow:From /usr/local/lib/python3.6/dist-packages/tensorflow_core/contrib/learn/python/learn/datasets/base.py:252: _internal_retry.<locals>.wrap.<locals>.wrapped_fn (from tensorflow.contrib.learn.python.learn.datasets.base) is deprecated and will be removed in a future version.\n",
            "Instructions for updating:\n",
            "Please use urllib or similar directly.\n",
            "Successfully downloaded train-images-idx3-ubyte.gz 9912422 bytes.\n",
            "WARNING:tensorflow:From /usr/local/lib/python3.6/dist-packages/tensorflow_core/contrib/learn/python/learn/datasets/mnist.py:262: extract_images (from tensorflow.contrib.learn.python.learn.datasets.mnist) is deprecated and will be removed in a future version.\n",
            "Instructions for updating:\n",
            "Please use tf.data to implement this functionality.\n",
            "Extracting ./data/train-images-idx3-ubyte.gz\n",
            "Successfully downloaded train-labels-idx1-ubyte.gz 28881 bytes.\n",
            "WARNING:tensorflow:From /usr/local/lib/python3.6/dist-packages/tensorflow_core/contrib/learn/python/learn/datasets/mnist.py:267: extract_labels (from tensorflow.contrib.learn.python.learn.datasets.mnist) is deprecated and will be removed in a future version.\n",
            "Instructions for updating:\n",
            "Please use tf.data to implement this functionality.\n",
            "Extracting ./data/train-labels-idx1-ubyte.gz\n",
            "WARNING:tensorflow:From /usr/local/lib/python3.6/dist-packages/tensorflow_core/contrib/learn/python/learn/datasets/mnist.py:110: dense_to_one_hot (from tensorflow.contrib.learn.python.learn.datasets.mnist) is deprecated and will be removed in a future version.\n",
            "Instructions for updating:\n",
            "Please use tf.one_hot on tensors.\n",
            "Successfully downloaded t10k-images-idx3-ubyte.gz 1648877 bytes.\n",
            "Extracting ./data/t10k-images-idx3-ubyte.gz\n",
            "Successfully downloaded t10k-labels-idx1-ubyte.gz 4542 bytes.\n",
            "Extracting ./data/t10k-labels-idx1-ubyte.gz\n",
            "WARNING:tensorflow:From /usr/local/lib/python3.6/dist-packages/tensorflow_core/contrib/learn/python/learn/datasets/mnist.py:290: DataSet.__init__ (from tensorflow.contrib.learn.python.learn.datasets.mnist) is deprecated and will be removed in a future version.\n",
            "Instructions for updating:\n",
            "Please use alternatives such as official/mnist/dataset.py from tensorflow/models.\n",
            "MNIST Datasize : Training Samples 55000, Testing Samples 10000, Validation Samples\n",
            "WARNING:tensorflow:From <ipython-input-1-5b4a1c4b2d18>:71: calling dropout (from tensorflow.python.ops.nn_ops) with keep_prob is deprecated and will be removed in a future version.\n",
            "Instructions for updating:\n",
            "Please use `rate` instead of `keep_prob`. Rate should be set to `rate = 1 - keep_prob`.\n"
          ],
          "name": "stdout"
        }
      ]
    },
    {
      "cell_type": "code",
      "metadata": {
        "id": "OciVIsxel1YI",
        "colab_type": "code",
        "colab": {
          "base_uri": "https://localhost:8080/",
          "height": 554
        },
        "outputId": "1d254d61-4ea1-4606-b21e-bac373477675"
      },
      "source": [
        "#executing the computational graph\n",
        "\n",
        "with tf.Session() as sess:\n",
        "  sess.run(init)\n",
        "  #writing summaries into a file called as writer\n",
        "  writer = tf.summary.FileWriter(\"./log\", sess.graph)\n",
        "  for i in range(epochs):\n",
        "    mini_batch_x, mini_batch_y = mnist_data.train.next_batch(batch_size)\n",
        "    #print(mini_batch_x[0:1,:].shape)\n",
        "    mini_batch_val_x, mini_batch_val_y = mnist_data.validation.next_batch(batch_size)\n",
        "    #running the optimizer\n",
        "    sess.run(optimizer, feed_dict = {X : mini_batch_x, Y : mini_batch_y, keep_prop:0.6})\n",
        "    #running the summary\n",
        "    summary_epoch = sess.run(merger_summary,feed_dict = {X : mini_batch_x, Y : mini_batch_y, keep_prop:0.6})\n",
        "\n",
        "    writer.add_summary(summary_epoch,i)\n",
        "\n",
        "    if i%100 == 0:\n",
        "      mini_batch_loss, mini_batch_accuracy = sess.run([computed_loss, nn_accuracy], feed_dict = {X : mini_batch_x, Y : mini_batch_y, keep_prop:1})\n",
        "      mini_batch_val_loss, mini_batch_val_accuracy = sess.run([computed_loss, nn_accuracy], feed_dict = {X : mini_batch_val_x, Y : mini_batch_val_y, keep_prop:0.6})\n",
        "\n",
        "      print(\"Iteration : {0}, Train_loss = {1}, Train_accuracy = {2}, val_loss = {3}, val_accuracy = {4}\".format(i,mini_batch_loss,mini_batch_accuracy,mini_batch_val_loss, mini_batch_val_accuracy))\n",
        "  print(\"optimization finished\")  \n",
        "  test_accuracy = sess.run(nn_accuracy, feed_dict = {X:mnist_data.test.images, Y:mnist_data.test.labels, keep_prop :1.0}) \n",
        "  print(\"Testing accuracy is {0}\".format(test_accuracy)) \n",
        "  saver_path = saver.save(sess,\"./model/my_model.ckpt\")"
      ],
      "execution_count": 2,
      "outputs": [
        {
          "output_type": "stream",
          "text": [
            "Iteration : 0, Train_loss = 5.7381181716918945, Train_accuracy = 0.171875, val_loss = 7.524099349975586, val_accuracy = 0.0859375\n",
            "Iteration : 100, Train_loss = 3.291377544403076, Train_accuracy = 0.1171875, val_loss = 5.393357276916504, val_accuracy = 0.078125\n",
            "Iteration : 200, Train_loss = 2.669769287109375, Train_accuracy = 0.1640625, val_loss = 4.417534828186035, val_accuracy = 0.1328125\n",
            "Iteration : 300, Train_loss = 2.7745094299316406, Train_accuracy = 0.140625, val_loss = 4.341398239135742, val_accuracy = 0.125\n",
            "Iteration : 400, Train_loss = 2.3809614181518555, Train_accuracy = 0.1796875, val_loss = 4.20571756362915, val_accuracy = 0.1640625\n",
            "Iteration : 500, Train_loss = 2.242709159851074, Train_accuracy = 0.1953125, val_loss = 3.272819995880127, val_accuracy = 0.203125\n",
            "Iteration : 600, Train_loss = 2.065845251083374, Train_accuracy = 0.3046875, val_loss = 3.266753673553467, val_accuracy = 0.203125\n",
            "Iteration : 700, Train_loss = 1.797581672668457, Train_accuracy = 0.3828125, val_loss = 2.834282636642456, val_accuracy = 0.2265625\n",
            "Iteration : 800, Train_loss = 1.9870116710662842, Train_accuracy = 0.34375, val_loss = 2.6035685539245605, val_accuracy = 0.2890625\n",
            "Iteration : 900, Train_loss = 1.7997407913208008, Train_accuracy = 0.4921875, val_loss = 3.001331329345703, val_accuracy = 0.2578125\n",
            "Iteration : 1000, Train_loss = 1.302781343460083, Train_accuracy = 0.6328125, val_loss = 2.4730327129364014, val_accuracy = 0.375\n",
            "Iteration : 1100, Train_loss = 1.395177960395813, Train_accuracy = 0.5546875, val_loss = 2.0708980560302734, val_accuracy = 0.4140625\n",
            "Iteration : 1200, Train_loss = 1.2423999309539795, Train_accuracy = 0.625, val_loss = 2.0822582244873047, val_accuracy = 0.390625\n",
            "Iteration : 1300, Train_loss = 1.5024678707122803, Train_accuracy = 0.546875, val_loss = 2.229198932647705, val_accuracy = 0.3515625\n",
            "Iteration : 1400, Train_loss = 1.0837085247039795, Train_accuracy = 0.6171875, val_loss = 2.103192090988159, val_accuracy = 0.375\n",
            "Iteration : 1500, Train_loss = 1.014349341392517, Train_accuracy = 0.6953125, val_loss = 2.02616810798645, val_accuracy = 0.390625\n",
            "Iteration : 1600, Train_loss = 1.2792274951934814, Train_accuracy = 0.578125, val_loss = 1.9619159698486328, val_accuracy = 0.453125\n",
            "Iteration : 1700, Train_loss = 1.0430374145507812, Train_accuracy = 0.6640625, val_loss = 1.9227782487869263, val_accuracy = 0.40625\n",
            "Iteration : 1800, Train_loss = 1.0519425868988037, Train_accuracy = 0.6796875, val_loss = 1.5865440368652344, val_accuracy = 0.46875\n",
            "Iteration : 1900, Train_loss = 0.9819006323814392, Train_accuracy = 0.6796875, val_loss = 1.5596143007278442, val_accuracy = 0.515625\n",
            "Iteration : 2000, Train_loss = 0.9494227766990662, Train_accuracy = 0.6484375, val_loss = 1.616208791732788, val_accuracy = 0.5546875\n",
            "Iteration : 2100, Train_loss = 1.0412935018539429, Train_accuracy = 0.6953125, val_loss = 1.730505347251892, val_accuracy = 0.484375\n",
            "Iteration : 2200, Train_loss = 0.942325234413147, Train_accuracy = 0.6796875, val_loss = 1.4757195711135864, val_accuracy = 0.5703125\n",
            "Iteration : 2300, Train_loss = 0.8162025809288025, Train_accuracy = 0.7265625, val_loss = 1.2728111743927002, val_accuracy = 0.5703125\n",
            "Iteration : 2400, Train_loss = 1.1515531539916992, Train_accuracy = 0.6328125, val_loss = 1.4855915307998657, val_accuracy = 0.5703125\n",
            "Iteration : 2500, Train_loss = 0.8521279096603394, Train_accuracy = 0.734375, val_loss = 1.2788379192352295, val_accuracy = 0.5703125\n",
            "Iteration : 2600, Train_loss = 0.7460523247718811, Train_accuracy = 0.734375, val_loss = 1.3796149492263794, val_accuracy = 0.6015625\n",
            "Iteration : 2700, Train_loss = 0.9554333686828613, Train_accuracy = 0.6875, val_loss = 1.4719750881195068, val_accuracy = 0.546875\n",
            "Iteration : 2800, Train_loss = 0.8136279582977295, Train_accuracy = 0.75, val_loss = 1.315532922744751, val_accuracy = 0.625\n",
            "Iteration : 2900, Train_loss = 0.7752488851547241, Train_accuracy = 0.8125, val_loss = 1.3329181671142578, val_accuracy = 0.5703125\n",
            "optimization finished\n",
            "Testing accuracy is 0.7653999924659729\n"
          ],
          "name": "stdout"
        }
      ]
    },
    {
      "cell_type": "code",
      "metadata": {
        "id": "D-PgcaC8S8g9",
        "colab_type": "code",
        "colab": {}
      },
      "source": [
        "\n",
        "#upload the test image\n",
        "img = cv2.imread(\"7.jpg\")\n",
        "gray_image =cv2.cvtColor(img, cv2.COLOR_BGR2GRAY)\n",
        "\n",
        "rescaled_image = cv2.resize(gray_image, (28,28))\n",
        "plt.imshow(rescaled_image, cmap = 'gray')\n",
        "plt.show()\n",
        "rescaled_image.shape\n",
        "#test_image = rescaled_image.flatten()\n",
        "\n",
        "dum = rescaled_image.reshape(1,-1)/255\n",
        "dum.shape\n",
        "\n",
        "\n",
        "\n",
        "             "
      ],
      "execution_count": 0,
      "outputs": []
    },
    {
      "cell_type": "code",
      "metadata": {
        "id": "CxcdRxZWXZVl",
        "colab_type": "code",
        "outputId": "2b15fd88-f268-48a2-e05e-dad553eac0e4",
        "colab": {
          "base_uri": "https://localhost:8080/",
          "height": 50
        }
      },
      "source": [
        "with tf.Session() as sess:\n",
        "  saver.restore(sess, \"./model/my_model.ckpt\")\n",
        "  Z = output_layer.eval(feed_dict = {X :dum, keep_prop: 1.0})\n",
        "  y_pred = np.argmax(Z , axis =1)\n",
        "  print(\"prediction for test image is {0}\".format(y_pred))"
      ],
      "execution_count": 0,
      "outputs": [
        {
          "output_type": "stream",
          "text": [
            "INFO:tensorflow:Restoring parameters from ./model/my_model.ckpt\n",
            "prediction for test image is [7]\n"
          ],
          "name": "stdout"
        }
      ]
    }
  ]
}