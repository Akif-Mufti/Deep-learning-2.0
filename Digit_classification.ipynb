{
  "nbformat": 4,
  "nbformat_minor": 0,
  "metadata": {
    "colab": {
      "name": "Digit_classification.ipynb",
      "provenance": [],
      "include_colab_link": true
    },
    "kernelspec": {
      "name": "python3",
      "display_name": "Python 3"
    }
  },
  "cells": [
    {
      "cell_type": "markdown",
      "metadata": {
        "id": "view-in-github",
        "colab_type": "text"
      },
      "source": [
        "<a href=\"https://colab.research.google.com/github/Akif-Mufti/Deep-learning-2.0/blob/master/Digit_classification.ipynb\" target=\"_parent\"><img src=\"https://colab.research.google.com/assets/colab-badge.svg\" alt=\"Open In Colab\"/></a>"
      ]
    },
    {
      "cell_type": "code",
      "metadata": {
        "id": "95fP9-yPIfeF",
        "colab_type": "code",
        "colab": {}
      },
      "source": [
        "#import dependencies\n",
        "\n",
        "import cv2\n",
        "import matplotlib.pyplot as plt\n",
        "import numpy as np\n",
        "import tensorflow as tf\n",
        "\n",
        "# Import MNIST data\n",
        "from tensorflow.examples.tutorials.mnist import input_data\n",
        "mnist = input_data.read_data_sets(\"./data\", one_hot=True)\n",
        "\n",
        "num_training = mnist_data.train.num_examples\n",
        "num_testing = mnist_data.test.num_examples\n",
        "num_validation = mnist_data.validation.num_examples\n",
        "\n",
        "print(\"MNIST Datasize\")\n",
        "\n",
        "#defining the neural network \n",
        "\n",
        "n_input = 784 #image of size 28 X28\n",
        "n_hidden_1 = 512 #first hidden layer\n",
        "n_hidden_2 = 256 #second hidden layer\n",
        "n_hidden_3 = 128 #third hidden layer\n",
        "n_output = 10  #output layer, as we need to classify the digits from (0 to 9)\n",
        "\n",
        "#hyper parameters (remain constant throughout the process\n",
        "\n",
        "learning_rate = 1e-4 #how the parameters will be adjusted at each step of the learning process\n",
        "epochs = 3000 #how many times we go through the training process\n",
        "batch_size = 128 #how many training examples we are using at each step \n",
        "keep_prop = tf.placeholder(tf.float32)\n",
        "\n",
        "#building tensorflow graph\n",
        "\n",
        "X = tf.placeholder(tf.float32, [None, n_input]) #[none, 784] [any number of training sets ]\n",
        "Y = tf.placeholder(tf.float32, [None, n_output]) #[none, 10 ]\n",
        "\n",
        "#defining the weights and biases\n",
        "\n",
        "nn_weight = {\"W1\": tf.Variable(tf.truncated_normal([n_input,n_hidden_1],stddev==0.1)),\n",
        "             \"W2\": tf.Variable(tf.truncated_normal([n_hidden_1,n_hidden_2],stddev==0.1)),\n",
        "             \"W3\": tf.Variable(tf.truncated_normal([n_hidden_2,n_hidden_3],stddev==0.1)),\n",
        "             \"Wout\": tf.Variable(tf.truncated_normal([n_hidden_3,n_output],stddev==0.1))\n",
        "            }\n",
        "nn_bias = {\n",
        "           \"B1\": tf.Variable(tf.truncated_normal([n_hidden_1])),\n",
        "           \"B2\": tf.Variable(tf.truncated_normal([n_hidden_2])),\n",
        "           \"B3\": tf.Variable(tf.truncated_normal([n_hidden_3])),\n",
        "           \"B4\": tf.Variable(tf.truncated_normal([n_output]))\n",
        "            }\n",
        "                       \n",
        "#creating a neural network model\n",
        "nn_layer1 = tf.add(tf.matmul(X, nn_weight[\"W1\"]),nn_bias[\"B1\"])\n",
        "nn_layer2 = tf.add(tf.matmul(nn_layer1, nn_weight[\"W2\"]),nn_bias[\"B2\"])\n",
        "nn_layer3 = tf.add(tf.matmul(nn_layer2, nn_weight[\"W3\"]),nn_bias[\"B3\"])\n",
        "layer_drop = tf.nn.dropout(nn_layer3, keep_prob)\n",
        "output_layer = tf.add(tf.matmul(layer_drop, nn_weight[\"Wout\"]),nn_bias[\"B4\"])\n",
        "\n",
        "#define the loss\n",
        "computed_loss = tf.reduce_mean(tf.nn.softmax_cross_entropy_with_logits_v2(logits = output_layer, labels= Y))\n",
        "\n",
        "#defining the optimizer \n",
        "\n",
        "optimizer = tf.train.GradientDescentOptimizer(learning_rate=learning_rate).minimize(computed_loss)\n",
        "\n",
        "#defining the prediction\n",
        "prediction_out = tf.equal(tf.arg_max(output_layer,1),tf.argmax(Y,1))\n",
        "\n",
        "#define accuracy of the model\n",
        "nn_accuracy = tf.reduce_mean(tf.cast(prediction_out,tf.float32))\n",
        "\n",
        "#initialize all the variables\n",
        "tf.global_variables_initializer()\n",
        "\n",
        "saver = tf.train.Saver()\n",
        "\n",
        "\n",
        "             \n",
        "\n",
        "\n",
        "\n",
        "\n",
        "\n"
      ],
      "execution_count": 0,
      "outputs": []
    },
    {
      "cell_type": "code",
      "metadata": {
        "id": "CxcdRxZWXZVl",
        "colab_type": "code",
        "colab": {}
      },
      "source": [
        ""
      ],
      "execution_count": 0,
      "outputs": []
    }
  ]
}