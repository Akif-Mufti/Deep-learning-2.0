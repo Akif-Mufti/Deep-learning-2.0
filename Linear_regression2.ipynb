{
  "nbformat": 4,
  "nbformat_minor": 0,
  "metadata": {
    "colab": {
      "name": "Linear_regression2.ipynb",
      "provenance": [],
      "include_colab_link": true
    },
    "kernelspec": {
      "name": "python3",
      "display_name": "Python 3"
    }
  },
  "cells": [
    {
      "cell_type": "markdown",
      "metadata": {
        "id": "view-in-github",
        "colab_type": "text"
      },
      "source": [
        "<a href=\"https://colab.research.google.com/github/Akif-Mufti/Deep-learning-2.0/blob/master/Linear_regression2.ipynb\" target=\"_parent\"><img src=\"https://colab.research.google.com/assets/colab-badge.svg\" alt=\"Open In Colab\"/></a>"
      ]
    },
    {
      "cell_type": "code",
      "metadata": {
        "id": "BbtK0S37hhb2",
        "colab_type": "code",
        "outputId": "b50fb002-1b84-4a45-89fd-6155de0bd503",
        "colab": {
          "base_uri": "https://localhost:8080/",
          "height": 235
        }
      },
      "source": [
        "#to install ngrok application to google colab notebook\n",
        "!wget https://bin.equinox.io/c/4VmDzA7iaHb/ngrok-stable-linux-amd64.zip\n",
        "!unzip ngrok-stable-linux-amd64.zip"
      ],
      "execution_count": 1,
      "outputs": [
        {
          "output_type": "stream",
          "text": [
            "--2019-11-06 02:47:20--  https://bin.equinox.io/c/4VmDzA7iaHb/ngrok-stable-linux-amd64.zip\n",
            "Resolving bin.equinox.io (bin.equinox.io)... 3.212.234.252, 34.202.125.55, 52.203.61.249, ...\n",
            "Connecting to bin.equinox.io (bin.equinox.io)|3.212.234.252|:443... connected.\n",
            "HTTP request sent, awaiting response... 200 OK\n",
            "Length: 13773305 (13M) [application/octet-stream]\n",
            "Saving to: ‘ngrok-stable-linux-amd64.zip’\n",
            "\n",
            "ngrok-stable-linux- 100%[===================>]  13.13M  14.2MB/s    in 0.9s    \n",
            "\n",
            "2019-11-06 02:47:21 (14.2 MB/s) - ‘ngrok-stable-linux-amd64.zip’ saved [13773305/13773305]\n",
            "\n",
            "Archive:  ngrok-stable-linux-amd64.zip\n",
            "  inflating: ngrok                   \n"
          ],
          "name": "stdout"
        }
      ]
    },
    {
      "cell_type": "code",
      "metadata": {
        "id": "5WbXby1vlu_H",
        "colab_type": "code",
        "colab": {}
      },
      "source": [
        "#to run tensorboar in the background\n",
        "LOG_DIR = './log'\n",
        "get_ipython().system_raw(\n",
        "    'tensorboard --logdir {} --host 0.0.0.0 --port 6006 &'\n",
        "    .format(LOG_DIR)\n",
        ")"
      ],
      "execution_count": 0,
      "outputs": []
    },
    {
      "cell_type": "code",
      "metadata": {
        "id": "gIJo5EwfmBGV",
        "colab_type": "code",
        "colab": {}
      },
      "source": [
        "#we can run ngrok to tunnel TensorBoard port 6006 to the outside world.\n",
        "get_ipython().system_raw('./ngrok http 6006 &')"
      ],
      "execution_count": 0,
      "outputs": []
    },
    {
      "cell_type": "code",
      "metadata": {
        "id": "c2T-u_DGmTs6",
        "colab_type": "code",
        "colab": {
          "base_uri": "https://localhost:8080/",
          "height": 34
        },
        "outputId": "fbcc775a-959f-421f-8faa-a31f2dcd979d"
      },
      "source": [
        "#public URL where we can access the colab TensorBoard web page.\n",
        "! curl -s http://localhost:4040/api/tunnels | python3 -c \\\n",
        "    \"import sys, json; print(json.load(sys.stdin)['tunnels'][0]['public_url'])\"\n"
      ],
      "execution_count": 4,
      "outputs": [
        {
          "output_type": "stream",
          "text": [
            "https://02b09c64.ngrok.io\n"
          ],
          "name": "stdout"
        }
      ]
    },
    {
      "cell_type": "code",
      "metadata": {
        "id": "vAZks0lWlLdz",
        "colab_type": "code",
        "colab": {
          "base_uri": "https://localhost:8080/",
          "height": 62
        },
        "outputId": "4773df23-489b-4f65-cf47-d00e6b0eb2e9"
      },
      "source": [
        "import numpy  as np\n",
        "import tensorflow as tf\n",
        "import matplotlib.pyplot as plt "
      ],
      "execution_count": 5,
      "outputs": [
        {
          "output_type": "display_data",
          "data": {
            "text/html": [
              "<p style=\"color: red;\">\n",
              "The default version of TensorFlow in Colab will soon switch to TensorFlow 2.x.<br>\n",
              "We recommend you <a href=\"https://www.tensorflow.org/guide/migrate\" target=\"_blank\">upgrade</a> now \n",
              "or ensure your notebook will continue to use TensorFlow 1.x via the <code>%tensorflow_version 1.x</code> magic:\n",
              "<a href=\"https://colab.research.google.com/notebooks/tensorflow_version.ipynb\" target=\"_blank\">more info</a>.</p>\n"
            ],
            "text/plain": [
              "<IPython.core.display.HTML object>"
            ]
          },
          "metadata": {
            "tags": []
          }
        }
      ]
    },
    {
      "cell_type": "code",
      "metadata": {
        "id": "wJI54hJzh4En",
        "colab_type": "code",
        "colab": {}
      },
      "source": [
        "learning_rate =0.01\n",
        "epochs =300"
      ],
      "execution_count": 0,
      "outputs": []
    },
    {
      "cell_type": "code",
      "metadata": {
        "id": "XdiMuzcMi6T9",
        "colab_type": "code",
        "colab": {}
      },
      "source": [
        "sample_points = 50\n",
        "x_train = np.linspace(0,30,sample_points)\n",
        "y_train = 6*x_train + 7*np.random.rand(sample_points)"
      ],
      "execution_count": 0,
      "outputs": []
    },
    {
      "cell_type": "code",
      "metadata": {
        "id": "8nuNYmMUkGRd",
        "colab_type": "code",
        "outputId": "75ba9e0a-b6aa-4f15-bde1-47cf5d27a9bb",
        "colab": {
          "base_uri": "https://localhost:8080/",
          "height": 265
        }
      },
      "source": [
        "#ploting noisy dataset\n",
        "\n",
        "plt.plot(x_train,y_train,'o')\n",
        "#noise free dat\n",
        "plt.plot(x_train,6*x_train)\n",
        "\n",
        "plt.show()\n",
        "\n"
      ],
      "execution_count": 8,
      "outputs": [
        {
          "output_type": "display_data",
          "data": {
            "image/png": "[encoded data removed]",
            "text/plain": [
              "<Figure size 432x288 with 1 Axes>"
            ]
          },
          "metadata": {
            "tags": []
          }
        }
      ]
    },
    {
      "cell_type": "code",
      "metadata": {
        "id": "LWpQLWlxrxHM",
        "colab_type": "code",
        "outputId": "ce465bb7-23c2-4dd1-aa48-36edb839eae2",
        "colab": {
          "base_uri": "https://localhost:8080/",
          "height": 470
        }
      },
      "source": [
        "#declaring the placholders and variables\n",
        "Y = tf.placeholder(tf.float32)\n",
        "X= tf.placeholder(tf.float32)\n",
        "\n",
        "W = tf.Variable(np.random.rand(), name = 'Weights')\n",
        "B = tf.Variable(np.random.rand(), name = 'Biases')\n",
        "\n",
        "#creating the model for regression\n",
        "with tf.name_scope(\"model\") as scope:\n",
        "  prediction = W*X +B\n",
        "\n",
        "#summaries to study the behavior of weights and biases with epochs\n",
        "\n",
        "weight_histogram = tf.summary.histogram(\"Weights\",W)\n",
        "Bias_histogram = tf.summary.histogram(\"Biases\",B)\n",
        "\n",
        "#cost function\n",
        "with tf.name_scope(\"Cost_function\") as scope:\n",
        "  cost_iteration = tf.reduce_sum((prediction-Y)**2)/(2*sample_points)\n",
        "\n",
        "#record the scalar summary of the cost function\n",
        "cost_summary = tf.summary.scalar(\"Cost\",cost_iteration)\n",
        "\n",
        "#optimizer \n",
        "with tf.name_scope(\"Optimizer\") as scope:\n",
        "  optimizer = tf.train.GradientDescentOptimizer(learning_rate).minimize(cost_iteration)\n",
        "\n",
        "#initializing the variables\n",
        "init = tf.global_variables_initializer()\n",
        "\n",
        "#merge all summaries \n",
        "\n",
        "merge_summary = tf.summary.merge_all()\n",
        "\n",
        "#tensor flow sessions\n",
        "\n",
        "with tf.Session() as sess:\n",
        "  sess.run(init)\n",
        "  writer = tf.summary.FileWriter('./log',sess.graph)\n",
        "  for epoch in range(epochs):\n",
        "    for x, y in zip(x_train,y_train):\n",
        "      sess.run(optimizer, feed_dict = {X:x, Y:y})\n",
        "\n",
        "      #write logs for each epochs\n",
        "      summary_epochs = sess.run(merge_summary, feed_dict = {X:x, Y:y})\n",
        "      writer.add_summary(summary_epochs,epoch)\n",
        "\n",
        "    if not epoch%40:\n",
        "      W1 = sess.run(W)\n",
        "      B1 = sess.run(B)\n",
        "      cost_iter = sess.run(cost_iteration, feed_dict = {X:x,Y:y})\n",
        "      print('Epochs %f cost %f Weight %f Bias %f' %(epoch,cost_iter,W1,B1))\n",
        "\n",
        "  Weight = sess.run(W)\n",
        "  Bias = sess.run(B)\n",
        "  plt.plot(x_train,y_train)\n",
        "  plt.plot(x_train,Weight*x_train + Bias)\n",
        "  plt.show()\n",
        "\n"
      ],
      "execution_count": 9,
      "outputs": [
        {
          "output_type": "stream",
          "text": [
            "WARNING:tensorflow:From /usr/local/lib/python3.6/dist-packages/tensorflow_core/python/ops/math_grad.py:1375: where (from tensorflow.python.ops.array_ops) is deprecated and will be removed in a future version.\n",
            "Instructions for updating:\n",
            "Use tf.where in 2.0, which has the same broadcast rule as np.where\n",
            "Epochs 0.000000 cost 0.266181 Weight 5.855720 Bias 0.904325\n",
            "Epochs 40.000000 cost 0.027722 Weight 6.074704 Bias 1.159086\n",
            "Epochs 80.000000 cost 0.026622 Weight 6.066360 Bias 1.376009\n",
            "Epochs 120.000000 cost 0.025645 Weight 6.058805 Bias 1.572438\n",
            "Epochs 160.000000 cost 0.024777 Weight 6.051965 Bias 1.750308\n",
            "Epochs 200.000000 cost 0.024003 Weight 6.045770 Bias 1.911373\n",
            "Epochs 240.000000 cost 0.023313 Weight 6.040161 Bias 2.057224\n",
            "Epochs 280.000000 cost 0.022697 Weight 6.035082 Bias 2.189294\n"
          ],
          "name": "stdout"
        },
        {
          "output_type": "display_data",
          "data": {
            "image/png": "[encoded data removed]",
            "text/plain": [
              "<Figure size 432x288 with 1 Axes>"
            ]
          },
          "metadata": {
            "tags": []
          }
        }
      ]
    },
    {
      "cell_type": "code",
      "metadata": {
        "id": "JLkiHUQOsBx3",
        "colab_type": "code",
        "colab": {}
      },
      "source": [
        ""
      ],
      "execution_count": 0,
      "outputs": []
    }
  ]
}