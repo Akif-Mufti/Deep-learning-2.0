{
  "nbformat": 4,
  "nbformat_minor": 0,
  "metadata": {
    "colab": {
      "name": "example_rensorflow1.ipynb",
      "provenance": [],
      "include_colab_link": true
    },
    "kernelspec": {
      "name": "python3",
      "display_name": "Python 3"
    },
    "accelerator": "GPU"
  },
  "cells": [
    {
      "cell_type": "markdown",
      "metadata": {
        "id": "view-in-github",
        "colab_type": "text"
      },
      "source": [
        "<a href=\"https://colab.research.google.com/github/Akif-Mufti/Deep-learning-2.0/blob/master/example_tensorflow1.ipynb\" target=\"_parent\"><img src=\"https://colab.research.google.com/assets/colab-badge.svg\" alt=\"Open In Colab\"/></a>"
      ]
    },
    {
      "cell_type": "code",
      "metadata": {
        "id": "nR6nDahlEUfU",
        "colab_type": "code",
        "colab": {
          "base_uri": "https://localhost:8080/",
          "height": 62
        },
        "outputId": "90382b12-c430-44fd-e55f-bc31273874be"
      },
      "source": [
        "import numpy  as np\n",
        "import tensorflow as tf "
      ],
      "execution_count": 1,
      "outputs": [
        {
          "output_type": "display_data",
          "data": {
            "text/html": [
              "<p style=\"color: red;\">\n",
              "The default version of TensorFlow in Colab will soon switch to TensorFlow 2.x.<br>\n",
              "We recommend you <a href=\"https://www.tensorflow.org/guide/migrate\" target=\"_blank\">upgrade</a> now \n",
              "or ensure your notebook will continue to use TensorFlow 1.x via the <code>%tensorflow_version 1.x</code> magic:\n",
              "<a href=\"https://colab.research.google.com/notebooks/tensorflow_version.ipynb\" target=\"_blank\">more info</a>.</p>\n"
            ],
            "text/plain": [
              "<IPython.core.display.HTML object>"
            ]
          },
          "metadata": {
            "tags": []
          }
        }
      ]
    },
    {
      "cell_type": "code",
      "metadata": {
        "id": "rZPmzchEE7L7",
        "colab_type": "code",
        "colab": {
          "base_uri": "https://localhost:8080/",
          "height": 50
        },
        "outputId": "75213e20-92fd-46af-9b4e-ac43892604ff"
      },
      "source": [
        "#the concept of constant\n",
        "#creation of computational graph\n",
        "x = tf.constant(9)\n",
        "y = tf.constant(10)\n",
        "\n",
        "z= x+y \n",
        "#another way of execution\n",
        "tf.InteractiveSession()\n",
        "print(z.eval())\n",
        "#execution of computational graph\n",
        "with tf.Session() as sess:\n",
        "  var = sess.run(z)\n",
        "  print(var)\n"
      ],
      "execution_count": 9,
      "outputs": [
        {
          "output_type": "stream",
          "text": [
            "19\n",
            "19\n"
          ],
          "name": "stdout"
        }
      ]
    },
    {
      "cell_type": "code",
      "metadata": {
        "id": "fwXiJFjWFV5C",
        "colab_type": "code",
        "colab": {
          "base_uri": "https://localhost:8080/",
          "height": 34
        },
        "outputId": "89501143-cc36-4d0b-ba13-c1bdebb43aa4"
      },
      "source": [
        ""
      ],
      "execution_count": 6,
      "outputs": [
        {
          "output_type": "stream",
          "text": [
            "Tensor(\"add_2:0\", shape=(), dtype=int32)\n"
          ],
          "name": "stdout"
        }
      ]
    },
    {
      "cell_type": "code",
      "metadata": {
        "id": "NDZ52plISwL6",
        "colab_type": "code",
        "colab": {
          "base_uri": "https://localhost:8080/",
          "height": 84
        },
        "outputId": "88a39a86-35ae-4758-d3a9-99ff7b851c8c"
      },
      "source": [
        "#explaining the concept of variables\n",
        " x1 = tf.Variable(0,name= 'input')\n",
        " y1 =tf.constant(1)\n",
        " mid_value = tf.add(x1,y1)\n",
        " updated_value = tf.assign(x1,mid_value)\n",
        "\n",
        " tg = tf.initialize_all_variables()\n",
        "\n",
        " with tf.Session() as sess:\n",
        "   sess.run(tg)\n",
        "   print(sess.run(x1))\n",
        "   \n",
        "   for i in range(3):\n",
        "      sess.run(updated_value)\n",
        "      print(sess.run(x1))\n",
        "\n"
      ],
      "execution_count": 20,
      "outputs": [
        {
          "output_type": "stream",
          "text": [
            "0\n",
            "1\n",
            "2\n",
            "3\n"
          ],
          "name": "stdout"
        }
      ]
    },
    {
      "cell_type": "code",
      "metadata": {
        "id": "gs0r-z-SaQGS",
        "colab_type": "code",
        "colab": {
          "base_uri": "https://localhost:8080/",
          "height": 50
        },
        "outputId": "4992b80d-985c-4eea-f6fe-b1125adb1b16"
      },
      "source": [
        "#Using placeholder in tensorflow\n",
        "\n",
        "x2 = tf.placeholder(\"float32\",[None, 3])\n",
        "\n",
        "#none signifies there can be any number of rows, and 3 is the number of columns\n",
        "\n",
        "y2 = x2**3\n",
        "\n",
        "with tf.Session() as sess:\n",
        "  result = sess.run(y2, feed_dict= {x2 : [[5,6,7],[10,11,12]]})\n",
        "  print(result)\n"
      ],
      "execution_count": 21,
      "outputs": [
        {
          "output_type": "stream",
          "text": [
            "[[ 125.       216.       343.     ]\n",
            " [ 999.99994 1331.      1728.     ]]\n"
          ],
          "name": "stdout"
        }
      ]
    }
  ]
}