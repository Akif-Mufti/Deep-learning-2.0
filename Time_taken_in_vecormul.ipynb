{
  "nbformat": 4,
  "nbformat_minor": 0,
  "metadata": {
    "colab": {
      "name": "Time_taken in vecormul.ipynb",
      "provenance": [],
      "include_colab_link": true
    },
    "kernelspec": {
      "name": "python3",
      "display_name": "Python 3"
    }
  },
  "cells": [
    {
      "cell_type": "markdown",
      "metadata": {
        "id": "view-in-github",
        "colab_type": "text"
      },
      "source": [
        "<a href=\"https://colab.research.google.com/github/Akif-Mufti/Deep-learning-2.0/blob/master/Time_taken_in_vecormul.ipynb\" target=\"_parent\"><img src=\"https://colab.research.google.com/assets/colab-badge.svg\" alt=\"Open In Colab\"/></a>"
      ]
    },
    {
      "cell_type": "code",
      "metadata": {
        "id": "Le-kzPvAhwOc",
        "colab_type": "code",
        "colab": {
          "base_uri": "https://localhost:8080/",
          "height": 34
        },
        "outputId": "3a076860-5339-4668-f59b-024103abe9b6"
      },
      "source": [
        "#munpy dot function is orders of magnitude faster than its for loop\n",
        "\n",
        "from __future__ import print_function, division\n",
        "from builtins import range\n",
        "\n",
        "\n",
        "\n",
        "import numpy as np\n",
        "from datetime import datetime\n",
        "\n",
        "a = np.random.randn(100)\n",
        "b = np.random.randn(100)\n",
        "T = 100000\n",
        "\n",
        "def slow_dot_product(a, b):\n",
        "  result = 0\n",
        "  for e, f in zip(a, b):\n",
        "    result += e*f\n",
        "  return result\n",
        "\n",
        "t0 = datetime.now()\n",
        "for t in range(T):\n",
        "  slow_dot_product(a, b)\n",
        "dt1 = datetime.now() - t0\n",
        "\n",
        "t0 = datetime.now()\n",
        "for t in range(T):\n",
        "  a.dot(b)\n",
        "dt2 = datetime.now() - t0\n",
        "\n",
        "print(\"dt1 / dt2:\", dt1.total_seconds() / dt2.total_seconds())\n"
      ],
      "execution_count": 4,
      "outputs": [
        {
          "output_type": "stream",
          "text": [
            "dt1 / dt2: 64.0153793726757\n"
          ],
          "name": "stdout"
        }
      ]
    }
  ]
}