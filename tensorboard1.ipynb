{
  "nbformat": 4,
  "nbformat_minor": 0,
  "metadata": {
    "colab": {
      "name": "tensorboard1.ipynb",
      "provenance": [],
      "include_colab_link": true
    },
    "kernelspec": {
      "name": "python3",
      "display_name": "Python 3"
    }
  },
  "cells": [
    {
      "cell_type": "markdown",
      "metadata": {
        "id": "view-in-github",
        "colab_type": "text"
      },
      "source": [
        "<a href=\"https://colab.research.google.com/github/Akif-Mufti/Deep-learning-2.0/blob/master/tensorboard1.ipynb\" target=\"_parent\"><img src=\"https://colab.research.google.com/assets/colab-badge.svg\" alt=\"Open In Colab\"/></a>"
      ]
    },
    {
      "cell_type": "code",
      "metadata": {
        "id": "DIbLjBBnxkqQ",
        "colab_type": "code",
        "colab": {
          "base_uri": "https://localhost:8080/",
          "height": 34
        },
        "outputId": "d4b5650a-ad91-43ef-f20d-3845fe9f29f1"
      },
      "source": [
        "import tensorflow as tf\n",
        "\n",
        "x =tf.add(3,4)\n",
        "y = tf.multiply(x,67)\n",
        "z = tf.add(x,y)\n",
        "\n",
        "with tf.Session() as sess:\n",
        "  writer =tf.summary.FileWriter(\"./logs\", sess.graph)\n",
        "  print(sess.run(z))\n",
        "  writer.close()"
      ],
      "execution_count": 10,
      "outputs": [
        {
          "output_type": "stream",
          "text": [
            "476\n"
          ],
          "name": "stdout"
        }
      ]
    },
    {
      "cell_type": "code",
      "metadata": {
        "id": "LMX1dYMM624D",
        "colab_type": "code",
        "colab": {
          "base_uri": "https://localhost:8080/",
          "height": 34
        },
        "outputId": "ce9fc129-95c6-4988-bc58-105bd0d2dae3"
      },
      "source": [
        "#making it more readable \n",
        "import tensorflow as tf\n",
        "\n",
        "x =tf.add(3,4, name = \"addition_1\")\n",
        "y = tf.multiply(x,67, name = \"multiplication_1\")\n",
        "z = tf.add(x,y, name = \"addition_2\")\n",
        "\n",
        "with tf.Session() as sess:\n",
        "  writer =tf.summary.FileWriter(\"./logs\", sess.graph)\n",
        "  print(sess.run(z))\n",
        "  writer.close()"
      ],
      "execution_count": 3,
      "outputs": [
        {
          "output_type": "stream",
          "text": [
            "476\n"
          ],
          "name": "stdout"
        }
      ]
    },
    {
      "cell_type": "code",
      "metadata": {
        "id": "Bh9nsijG86k3",
        "colab_type": "code",
        "colab": {
          "base_uri": "https://localhost:8080/",
          "height": 79
        },
        "outputId": "faee05ca-65e4-43b3-e6ec-477768a15f5d"
      },
      "source": [
        "#making it more readable by defining scope\n",
        "import tensorflow as tf\n",
        "with tf.name_scope(\"first\"):\n",
        "  with tf.name_scope(\"sub\"):\n",
        "    x =tf.add(3,4, name = \"addition_1\")\n",
        "    y = tf.multiply(x,67, name = \"multiplication_1\")\n",
        "    z = tf.add(x,y, name = \"addition_2\")\n",
        "with tf.name_scope(\"sub2\"):\n",
        "  x1 =tf.add(4,7, name = \"addition_3\")\n",
        "  y1 = tf.multiply(x,67, name = \"multiplication_2\")\n",
        "  z1= tf.add(x,y, name = \"addition_4\")\n",
        "\n",
        "z2= tf.add(z,z1, name = \"addition_5\")\n",
        "\n",
        "with tf.Session() as sess:\n",
        "  writer =tf.summary.FileWriter(\"./logs\", sess.graph)\n",
        "  print(sess.run(z))\n",
        "  writer.close()"
      ],
      "execution_count": 1,
      "outputs": [
        {
          "output_type": "display_data",
          "data": {
            "text/html": [
              "<p style=\"color: red;\">\n",
              "The default version of TensorFlow in Colab will soon switch to TensorFlow 2.x.<br>\n",
              "We recommend you <a href=\"https://www.tensorflow.org/guide/migrate\" target=\"_blank\">upgrade</a> now \n",
              "or ensure your notebook will continue to use TensorFlow 1.x via the <code>%tensorflow_version 1.x</code> magic:\n",
              "<a href=\"https://colab.research.google.com/notebooks/tensorflow_version.ipynb\" target=\"_blank\">more info</a>.</p>\n"
            ],
            "text/plain": [
              "<IPython.core.display.HTML object>"
            ]
          },
          "metadata": {
            "tags": []
          }
        },
        {
          "output_type": "stream",
          "text": [
            "476\n"
          ],
          "name": "stdout"
        }
      ]
    }
  ]
}