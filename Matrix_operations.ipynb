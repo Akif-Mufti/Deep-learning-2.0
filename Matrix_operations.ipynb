{
  "nbformat": 4,
  "nbformat_minor": 0,
  "metadata": {
    "colab": {
      "name": "Matrix_operations.ipynb",
      "provenance": [],
      "include_colab_link": true
    },
    "kernelspec": {
      "name": "python3",
      "display_name": "Python 3"
    }
  },
  "cells": [
    {
      "cell_type": "markdown",
      "metadata": {
        "id": "view-in-github",
        "colab_type": "text"
      },
      "source": [
        "<a href=\"https://colab.research.google.com/github/Akif-Mufti/Deep-learning-2.0/blob/master/Matrix_operations.ipynb\" target=\"_parent\"><img src=\"https://colab.research.google.com/assets/colab-badge.svg\" alt=\"Open In Colab\"/></a>"
      ]
    },
    {
      "cell_type": "code",
      "metadata": {
        "id": "4mDUlXAHazxl",
        "colab_type": "code",
        "colab": {}
      },
      "source": [
        "import numpy as np\n",
        "\n",
        "#Numerous matrix operations\n",
        "\n",
        "A = np.array([[3,4],[5,6]])\n",
        "#inverse of a matrix\n",
        "Ainv = np.linalg.inv(A)"
      ],
      "execution_count": 0,
      "outputs": []
    },
    {
      "cell_type": "code",
      "metadata": {
        "id": "fLz-nSRPb6R8",
        "colab_type": "code",
        "colab": {
          "base_uri": "https://localhost:8080/",
          "height": 51
        },
        "outputId": "1796a828-3d6c-4c6e-c1ff-fccfbf75e0de"
      },
      "source": [
        "Ainv"
      ],
      "execution_count": 2,
      "outputs": [
        {
          "output_type": "execute_result",
          "data": {
            "text/plain": [
              "array([[-3. ,  2. ],\n",
              "       [ 2.5, -1.5]])"
            ]
          },
          "metadata": {
            "tags": []
          },
          "execution_count": 2
        }
      ]
    },
    {
      "cell_type": "code",
      "metadata": {
        "id": "GXqnvZ8KcIYS",
        "colab_type": "code",
        "colab": {
          "base_uri": "https://localhost:8080/",
          "height": 34
        },
        "outputId": "8551d7f8-9124-49ed-fee6-5100c07f47da"
      },
      "source": [
        "#determinant of a matrix\n",
        "\n",
        "detA = np.linalg.det(A)\n",
        "\n",
        "detA"
      ],
      "execution_count": 3,
      "outputs": [
        {
          "output_type": "execute_result",
          "data": {
            "text/plain": [
              "-1.9999999999999971"
            ]
          },
          "metadata": {
            "tags": []
          },
          "execution_count": 3
        }
      ]
    },
    {
      "cell_type": "code",
      "metadata": {
        "id": "NfdSVBhTcaYJ",
        "colab_type": "code",
        "colab": {
          "base_uri": "https://localhost:8080/",
          "height": 34
        },
        "outputId": "8f1d3c9b-7c9a-4ba6-efe6-cc88fc9a48cc"
      },
      "source": [
        "#diagonal of a matrices\n",
        "\n",
        "np.diag(A)"
      ],
      "execution_count": 4,
      "outputs": [
        {
          "output_type": "execute_result",
          "data": {
            "text/plain": [
              "array([3, 6])"
            ]
          },
          "metadata": {
            "tags": []
          },
          "execution_count": 4
        }
      ]
    },
    {
      "cell_type": "code",
      "metadata": {
        "id": "5nqtsgUqe9M6",
        "colab_type": "code",
        "colab": {
          "base_uri": "https://localhost:8080/",
          "height": 68
        },
        "outputId": "fe0f292e-4144-4655-977d-bdd95b2ecf71"
      },
      "source": [
        "#when we pass 1d array in the above function we get a 2 d array. all the non diagonal elements a zero\n",
        "\n",
        "np.diag([1,2,3])"
      ],
      "execution_count": 5,
      "outputs": [
        {
          "output_type": "execute_result",
          "data": {
            "text/plain": [
              "array([[1, 0, 0],\n",
              "       [0, 2, 0],\n",
              "       [0, 0, 3]])"
            ]
          },
          "metadata": {
            "tags": []
          },
          "execution_count": 5
        }
      ]
    },
    {
      "cell_type": "code",
      "metadata": {
        "id": "8-iv8ZX-fRnP",
        "colab_type": "code",
        "colab": {
          "base_uri": "https://localhost:8080/",
          "height": 51
        },
        "outputId": "0cc682db-03f5-40f2-cdb2-6be214c4ed66"
      },
      "source": [
        "#outer Product\n",
        "\n",
        "a= np.array([4,5])\n",
        "b= np.array([7,6])\n",
        "\n",
        "np.outer(a,b)"
      ],
      "execution_count": 6,
      "outputs": [
        {
          "output_type": "execute_result",
          "data": {
            "text/plain": [
              "array([[28, 24],\n",
              "       [35, 30]])"
            ]
          },
          "metadata": {
            "tags": []
          },
          "execution_count": 6
        }
      ]
    },
    {
      "cell_type": "code",
      "metadata": {
        "id": "SrL5Vmc_kyAx",
        "colab_type": "code",
        "colab": {
          "base_uri": "https://localhost:8080/",
          "height": 34
        },
        "outputId": "8330df68-960a-4133-cee8-affc6aafa121"
      },
      "source": [
        "#inner product is same as dot product\n",
        "\n",
        "np.inner(a,b)"
      ],
      "execution_count": 7,
      "outputs": [
        {
          "output_type": "execute_result",
          "data": {
            "text/plain": [
              "58"
            ]
          },
          "metadata": {
            "tags": []
          },
          "execution_count": 7
        }
      ]
    },
    {
      "cell_type": "code",
      "metadata": {
        "id": "z11PBsPclvAm",
        "colab_type": "code",
        "colab": {}
      },
      "source": [
        "#summing the diagonal elements\n",
        "\n",
        "np.diag(a).sum()\n",
        "\n"
      ],
      "execution_count": 0,
      "outputs": []
    },
    {
      "cell_type": "code",
      "metadata": {
        "id": "3LwW7xAemLDg",
        "colab_type": "code",
        "colab": {}
      },
      "source": [
        "l = np.diag([1,2])"
      ],
      "execution_count": 0,
      "outputs": []
    },
    {
      "cell_type": "code",
      "metadata": {
        "id": "AVaLX9nFma43",
        "colab_type": "code",
        "colab": {
          "base_uri": "https://localhost:8080/",
          "height": 51
        },
        "outputId": "ef69371f-bc8d-4ade-b611-86a237d379b1"
      },
      "source": [
        "l"
      ],
      "execution_count": 15,
      "outputs": [
        {
          "output_type": "execute_result",
          "data": {
            "text/plain": [
              "array([[1, 0],\n",
              "       [0, 2]])"
            ]
          },
          "metadata": {
            "tags": []
          },
          "execution_count": 15
        }
      ]
    },
    {
      "cell_type": "code",
      "metadata": {
        "id": "mXwDuYwAmjoY",
        "colab_type": "code",
        "colab": {
          "base_uri": "https://localhost:8080/",
          "height": 34
        },
        "outputId": "8eb3bccf-162e-4623-9287-77c89f68605c"
      },
      "source": [
        "#trace sums the diagonal elements\n",
        "\n",
        "np.trace(l)"
      ],
      "execution_count": 16,
      "outputs": [
        {
          "output_type": "execute_result",
          "data": {
            "text/plain": [
              "3"
            ]
          },
          "metadata": {
            "tags": []
          },
          "execution_count": 16
        }
      ]
    },
    {
      "cell_type": "code",
      "metadata": {
        "id": "POXiRSC1nWSN",
        "colab_type": "code",
        "colab": {}
      },
      "source": [
        "#eigen value and eigen vector\n",
        "\n",
        "X = np.random.randn(100,3)\n",
        "\n",
        "#calculating the covarience\n",
        "\n",
        "cov = np.cov(X)"
      ],
      "execution_count": 0,
      "outputs": []
    },
    {
      "cell_type": "code",
      "metadata": {
        "id": "0D_eNX-yntqa",
        "colab_type": "code",
        "colab": {
          "base_uri": "https://localhost:8080/",
          "height": 238
        },
        "outputId": "0090114b-14f6-48db-d9e9-37d98d48438e"
      },
      "source": [
        "cov"
      ],
      "execution_count": 18,
      "outputs": [
        {
          "output_type": "execute_result",
          "data": {
            "text/plain": [
              "array([[ 0.2846165 ,  0.55369654, -0.46470167, ...,  0.57772744,\n",
              "         0.44517591,  0.38269553],\n",
              "       [ 0.55369654,  1.80765047, -1.18139351, ...,  1.22144303,\n",
              "         1.15519345,  2.55911755],\n",
              "       [-0.46470167, -1.18139351,  0.86404174, ..., -0.98030166,\n",
              "        -0.83663634, -1.31383054],\n",
              "       ...,\n",
              "       [ 0.57772744,  1.22144303, -0.98030166, ...,  1.18571756,\n",
              "         0.94224086,  1.01907739],\n",
              "       [ 0.44517591,  1.15519345, -0.83663634, ...,  0.94224086,\n",
              "         0.81076064,  1.31685322],\n",
              "       [ 0.38269553,  2.55911755, -1.31383054, ...,  1.01907739,\n",
              "         1.31685322,  5.02232683]])"
            ]
          },
          "metadata": {
            "tags": []
          },
          "execution_count": 18
        }
      ]
    },
    {
      "cell_type": "code",
      "metadata": {
        "id": "NpPZCIc1nzpZ",
        "colab_type": "code",
        "colab": {
          "base_uri": "https://localhost:8080/",
          "height": 34
        },
        "outputId": "ef2e7f0e-80b0-4024-a8c2-cc20924f832a"
      },
      "source": [
        "cov.shape"
      ],
      "execution_count": 19,
      "outputs": [
        {
          "output_type": "execute_result",
          "data": {
            "text/plain": [
              "(100, 100)"
            ]
          },
          "metadata": {
            "tags": []
          },
          "execution_count": 19
        }
      ]
    },
    {
      "cell_type": "code",
      "metadata": {
        "id": "Kdt0ZOxZn2NT",
        "colab_type": "code",
        "colab": {
          "base_uri": "https://localhost:8080/",
          "height": 68
        },
        "outputId": "3c07d207-eb3f-4761-9de5-96cb2e4cf512"
      },
      "source": [
        "#If it's 100 x 100, then it is wrong\n",
        "\n",
        "#we need to transpose it\n",
        "\n",
        "cov = np.cov(X.T)\n",
        "\n",
        "cov"
      ],
      "execution_count": 20,
      "outputs": [
        {
          "output_type": "execute_result",
          "data": {
            "text/plain": [
              "array([[ 1.02352756,  0.19868294,  0.00614655],\n",
              "       [ 0.19868294,  1.14452127, -0.05780714],\n",
              "       [ 0.00614655, -0.05780714,  0.81100527]])"
            ]
          },
          "metadata": {
            "tags": []
          },
          "execution_count": 20
        }
      ]
    },
    {
      "cell_type": "code",
      "metadata": {
        "id": "QD7gj2kwowa_",
        "colab_type": "code",
        "colab": {
          "base_uri": "https://localhost:8080/",
          "height": 85
        },
        "outputId": "9a34af12-d4a1-4733-c5b3-aae5e9669af2"
      },
      "source": [
        "#functions for calculating eigen values and eigen vectors\n",
        "# eigh is used for calculating it in hermitian marix\n",
        "\n",
        "np.linalg.eigh(cov)"
      ],
      "execution_count": 21,
      "outputs": [
        {
          "output_type": "execute_result",
          "data": {
            "text/plain": [
              "(array([0.78952264, 0.89400984, 1.29552162]),\n",
              " array([[-0.28467591, -0.75848202, -0.58622918],\n",
              "        [ 0.3071933 ,  0.50710359, -0.80528146],\n",
              "        [ 0.90807043, -0.4093299 ,  0.08864042]]))"
            ]
          },
          "metadata": {
            "tags": []
          },
          "execution_count": 21
        }
      ]
    },
    {
      "cell_type": "code",
      "metadata": {
        "id": "Ra6RZegDpJaQ",
        "colab_type": "code",
        "colab": {
          "base_uri": "https://localhost:8080/",
          "height": 85
        },
        "outputId": "f9acc145-fc6b-464d-bb2b-899b2cc0fab6"
      },
      "source": [
        "# eig is used for calculating it in symetric marix\n",
        "\n",
        "np.linalg.eig(cov)"
      ],
      "execution_count": 22,
      "outputs": [
        {
          "output_type": "execute_result",
          "data": {
            "text/plain": [
              "(array([1.29552162, 0.89400984, 0.78952264]),\n",
              " array([[ 0.58622918,  0.75848202, -0.28467591],\n",
              "        [ 0.80528146, -0.50710359,  0.3071933 ],\n",
              "        [-0.08864042,  0.4093299 ,  0.90807043]]))"
            ]
          },
          "metadata": {
            "tags": []
          },
          "execution_count": 22
        }
      ]
    }
  ]
}